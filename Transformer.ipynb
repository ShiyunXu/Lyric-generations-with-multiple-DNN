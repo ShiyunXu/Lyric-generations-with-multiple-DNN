{
  "nbformat": 4,
  "nbformat_minor": 0,
  "metadata": {
    "anaconda-cloud": {},
    "kernelspec": {
      "display_name": "Python [conda env:py3]",
      "language": "python",
      "name": "conda-env-py3-py"
    },
    "language_info": {
      "codemirror_mode": {
        "name": "ipython",
        "version": 3
      },
      "file_extension": ".py",
      "mimetype": "text/x-python",
      "name": "python",
      "nbconvert_exporter": "python",
      "pygments_lexer": "ipython3",
      "version": "3.6.2"
    },
    "colab": {
      "name": "LyricsGen_Transformer.ipynb",
      "provenance": [],
      "collapsed_sections": [
        "3iXhErqNSE6s",
        "CM-I7NdYSE6y",
        "PUWVCQriSE64"
      ],
      "toc_visible": true
    },
    "accelerator": "GPU"
  },
  "cells": [
    {
      "cell_type": "markdown",
      "metadata": {
        "id": "XAqC3kG9B85k",
        "colab_type": "text"
      },
      "source": [
        "**Reference** : \n",
        "1. http://nlp.seas.harvard.edu/2018/04/03/attention.html\n",
        "2. https://github.com/lynnna-xu/text-generation-transformer "
      ]
    },
    {
      "cell_type": "markdown",
      "metadata": {
        "id": "jcwffOtsxT6u",
        "colab_type": "text"
      },
      "source": [
        "# 0. Import/Installment"
      ]
    },
    {
      "cell_type": "code",
      "metadata": {
        "id": "v15ZXyLoSE6L",
        "colab_type": "code",
        "colab": {}
      },
      "source": [
        "import os\n",
        "os.environ[\"CUDA_VISIBLE_DEVICES\"] = \"0\""
      ],
      "execution_count": 0,
      "outputs": []
    },
    {
      "cell_type": "code",
      "metadata": {
        "id": "KKQj0946SE6Q",
        "colab_type": "code",
        "outputId": "d539314e-8741-43d0-f2d4-012584a143e2",
        "colab": {
          "base_uri": "https://localhost:8080/",
          "height": 74
        }
      },
      "source": [
        "import numpy as np\n",
        "import pandas as pd\n",
        "import torch\n",
        "import torch.nn as nn\n",
        "import torch.nn.functional as F\n",
        "import math, copy, time\n",
        "from torch.autograd import Variable\n",
        "import matplotlib.pyplot as plt\n",
        "import seaborn\n",
        "seaborn.set_context(context=\"talk\")\n",
        "%matplotlib inline"
      ],
      "execution_count": 0,
      "outputs": [
        {
          "output_type": "stream",
          "text": [
            "/usr/local/lib/python3.6/dist-packages/statsmodels/tools/_testing.py:19: FutureWarning: pandas.util.testing is deprecated. Use the functions in the public API at pandas.testing instead.\n",
            "  import pandas.util.testing as tm\n"
          ],
          "name": "stderr"
        }
      ]
    },
    {
      "cell_type": "markdown",
      "metadata": {
        "id": "5kI84UJdxX89",
        "colab_type": "text"
      },
      "source": [
        "#1. Define Transformer model"
      ]
    },
    {
      "cell_type": "markdown",
      "metadata": {
        "id": "NuxL2pjNSE6S",
        "colab_type": "text"
      },
      "source": [
        "## Model Architecture -- Encoder-Decoder"
      ]
    },
    {
      "cell_type": "code",
      "metadata": {
        "id": "As3cjpdHSE6T",
        "colab_type": "code",
        "colab": {}
      },
      "source": [
        "class EncoderDecoder(nn.Module):\n",
        "\n",
        "    def __init__(self, encoder, decoder, src_embed, tgt_embed, generator):\n",
        "        super(EncoderDecoder, self).__init__()\n",
        "        self.encoder = encoder\n",
        "        self.decoder = decoder\n",
        "        self.src_embed = src_embed\n",
        "        self.tgt_embed = tgt_embed\n",
        "        self.generator = generator\n",
        "        \n",
        "    def forward(self, src, tgt, src_mask, tgt_mask):\n",
        "        return self.decode(self.encode(src, src_mask), src_mask,\n",
        "                            tgt, tgt_mask)\n",
        "    \n",
        "    def encode(self, src, src_mask):\n",
        "        return self.encoder(self.src_embed(src), src_mask)\n",
        "    \n",
        "    def decode(self, memory, src_mask, tgt, tgt_mask):\n",
        "        return self.decoder(self.tgt_embed(tgt), memory, src_mask, tgt_mask)\n",
        "\n",
        "class Generator_ffnn(nn.Module):\n",
        "    '''\n",
        "    This is the prediction layer\n",
        "    '''\n",
        "\n",
        "    def __init__(self, d_model, vocab):\n",
        "        super(Generator_ffnn, self).__init__()\n",
        "        self.proj = nn.Linear(d_model, vocab)\n",
        "\n",
        "    def forward(self, x):\n",
        "        return F.log_softmax(self.proj(x), dim=-1)"
      ],
      "execution_count": 0,
      "outputs": []
    },
    {
      "cell_type": "markdown",
      "metadata": {
        "id": "KYtTGcdrSE6V",
        "colab_type": "text"
      },
      "source": [
        "## Encoder and Decoder Layers"
      ]
    },
    {
      "cell_type": "code",
      "metadata": {
        "id": "4D5-8NmVSE6W",
        "colab_type": "code",
        "colab": {}
      },
      "source": [
        "def clone_layer(module, N):\n",
        "    '''\n",
        "    Clone N identical layers, which are then used in Encoder and Decoder\n",
        "    '''\n",
        "    return nn.ModuleList([copy.deepcopy(module) for _ in range(N)])\n",
        "\n",
        "class normalization(nn.Module):\n",
        "    '''\n",
        "    This is for layer normalization\n",
        "    '''\n",
        "    def __init__(self, features, tol=1e-6):\n",
        "        super(normalization, self).__init__()\n",
        "        self.ones = nn.Parameter(torch.ones(features))\n",
        "        self.zeros = nn.Parameter(torch.zeros(features))\n",
        "        self.tol = tol\n",
        "\n",
        "    def forward(self, x):\n",
        "        mean = x.mean(-1, keepdim=True)\n",
        "        std = x.std(-1, keepdim=True)\n",
        "        return self.ones * (x - mean) / (std + self.tol) + self.zeros\n",
        "    \n",
        "class Skip_connection(nn.Module):\n",
        "    \"\"\"\n",
        "    Skip connection to make sure enough useful information from input can be\n",
        "    passed into a deeper layer\n",
        "    \"\"\"\n",
        "    def __init__(self, size, dropout):\n",
        "        super(Skip_connection, self).__init__()\n",
        "        self.norm = normalization(size)\n",
        "        self.dropout = nn.Dropout(dropout)\n",
        "\n",
        "    def forward(self, x, sublayer):\n",
        "        return x + self.dropout(sublayer(self.norm(x)))\n",
        "\n",
        "class Encoder(nn.Module):\n",
        "\n",
        "    def __init__(self, layer, N):\n",
        "        super(Encoder, self).__init__()\n",
        "        self.layers = clone_layer(layer, N)\n",
        "        self.norm = normalization(layer.size)\n",
        "        \n",
        "    def forward(self, x, mask):\n",
        "\n",
        "        for layer in self.layers:\n",
        "            x = layer(x, mask)\n",
        "        return self.norm(x)    \n",
        "    \n",
        "\n",
        "class EncoderLayer(nn.Module):\n",
        "    '''\n",
        "    Encoder layer is attention layer and feed forward network with skip connection\n",
        "    '''\n",
        "    def __init__(self, size, self_attn, feed_forward, dropout):\n",
        "        super(EncoderLayer, self).__init__()\n",
        "        self.self_attn = self_attn\n",
        "        self.feed_forward = feed_forward\n",
        "        self.sublayer = clone_layer(Skip_connection(size, dropout), 2)\n",
        "        self.size = size\n",
        "\n",
        "    def forward(self, x, mask):\n",
        "\n",
        "        x = self.sublayer[0](x, lambda x: self.self_attn(x, x, x, mask))\n",
        "        return self.sublayer[1](x, self.feed_forward)\n",
        "\n",
        "class Decoder(nn.Module):\n",
        "\n",
        "    def __init__(self, layer, N):\n",
        "        super(Decoder, self).__init__()\n",
        "        self.layers = clone_layer(layer, N)\n",
        "        self.norm = normalization(layer.size)\n",
        "        \n",
        "    def forward(self, x, memory, src_mask, tgt_mask):\n",
        "        for layer in self.layers:\n",
        "            x = layer(x, memory, src_mask, tgt_mask)\n",
        "        return self.norm(x)\n",
        "\n",
        "class DecoderLayer(nn.Module):\n",
        "    '''\n",
        "    Similar architecture as encoder layer, but add source attention layer\n",
        "    '''\n",
        "    def __init__(self, size, self_attn, src_attn, feed_forward, dropout):\n",
        "        super(DecoderLayer, self).__init__()\n",
        "        self.size = size\n",
        "        self.self_attn = self_attn\n",
        "        self.src_attn = src_attn\n",
        "        self.feed_forward = feed_forward\n",
        "        self.sublayer = clone_layer(Skip_connection(size, dropout), 3)\n",
        " \n",
        "    def forward(self, x, memory, src_mask, tgt_mask):\n",
        "\n",
        "        m = memory\n",
        "        x = self.sublayer[0](x, lambda x: self.self_attn(x, x, x, tgt_mask))\n",
        "        x = self.sublayer[1](x, lambda x: self.src_attn(x, m, m, src_mask))\n",
        "        return self.sublayer[2](x, self.feed_forward)\n",
        "\n",
        "def subsequent_mask(size):\n",
        "\n",
        "    attn_shape = (1, size, size)\n",
        "    subsequent_mask = np.triu(np.ones(attn_shape), k=1).astype('uint8')\n",
        "    return torch.from_numpy(subsequent_mask) == 0\n",
        "\n",
        "def attention(query, key, value, mask=None, dropout=None):\n",
        "    '''\n",
        "    Implement attention mechanisms\n",
        "    '''\n",
        "    d_k = query.size(-1)\n",
        "    scores = torch.matmul(query, key.transpose(-2, -1)) \\\n",
        "             / math.sqrt(d_k)\n",
        "    if mask is not None:\n",
        "        scores = scores.masked_fill(mask == 0, -1e9)\n",
        "    p_attn = F.softmax(scores, dim = -1)\n",
        "    if dropout is not None:\n",
        "        p_attn = dropout(p_attn)\n",
        "    return torch.matmul(p_attn, value), p_attn\n",
        "\n",
        "class MultiHeadedAttention(nn.Module):\n",
        "    def __init__(self, h, d_model, dropout=0.1):\n",
        "        \n",
        "        super(MultiHeadedAttention, self).__init__()\n",
        "        assert d_model % h == 0\n",
        "\n",
        "        self.d_k = d_model // h\n",
        "        self.h = h\n",
        "        self.linears = clone_layer(nn.Linear(d_model, d_model), 4)\n",
        "        self.attn = None\n",
        "        self.dropout = nn.Dropout(p=dropout)\n",
        "        \n",
        "    def forward(self, query, key, value, mask=None):\n",
        "        if mask is not None:\n",
        "            mask = mask.unsqueeze(1)\n",
        "        nbatches = query.size(0)\n",
        "        \n",
        "        # Conduct linear projections\n",
        "        query, key, value = \\\n",
        "            [l(x).view(nbatches, -1, self.h, self.d_k).transpose(1, 2)\n",
        "             for l, x in zip(self.linears, (query, key, value))]\n",
        "        \n",
        "        #apply attention\n",
        "        x, self.attn = attention(query, key, value, mask=mask, \n",
        "                                 dropout=self.dropout)\n",
        "        \n",
        "        #Concat results\n",
        "        x = x.transpose(1, 2).contiguous() \\\n",
        "             .view(nbatches, -1, self.h * self.d_k)\n",
        "        return self.linears[-1](x)\n"
      ],
      "execution_count": 0,
      "outputs": []
    },
    {
      "cell_type": "markdown",
      "metadata": {
        "id": "t0UJKATMSE6Y",
        "colab_type": "text"
      },
      "source": [
        "## Position-wise Feed-Forward Networks"
      ]
    },
    {
      "cell_type": "code",
      "metadata": {
        "id": "7_tira_ZSE6Y",
        "colab_type": "code",
        "colab": {}
      },
      "source": [
        "class PositionwiseFeedForward(nn.Module):\n",
        "\n",
        "    def __init__(self, d_model, d_ff, dropout=0.1):\n",
        "        super(PositionwiseFeedForward, self).__init__()\n",
        "        self.w_1 = nn.Linear(d_model, d_ff)\n",
        "        self.w_2 = nn.Linear(d_ff, d_model)\n",
        "        self.dropout = nn.Dropout(dropout)\n",
        "\n",
        "    def forward(self, x):\n",
        "        return self.w_2(self.dropout(F.relu(self.w_1(x))))"
      ],
      "execution_count": 0,
      "outputs": []
    },
    {
      "cell_type": "markdown",
      "metadata": {
        "id": "3AIyR2C3SE6a",
        "colab_type": "text"
      },
      "source": [
        "## Embeddings Layer"
      ]
    },
    {
      "cell_type": "code",
      "metadata": {
        "id": "Hgewmtu6SE6b",
        "colab_type": "code",
        "colab": {}
      },
      "source": [
        "class Embeddings(nn.Module):\n",
        "    def __init__(self, d_model, vocab):\n",
        "        super(Embeddings, self).__init__()\n",
        "        self.lut = nn.Embedding(vocab, d_model)\n",
        "        self.d_model = d_model\n",
        "\n",
        "    def forward(self, x):\n",
        "        return self.lut(x) * math.sqrt(self.d_model)"
      ],
      "execution_count": 0,
      "outputs": []
    },
    {
      "cell_type": "markdown",
      "metadata": {
        "id": "20qCDFisSE6d",
        "colab_type": "text"
      },
      "source": [
        "## Positional Encoding"
      ]
    },
    {
      "cell_type": "code",
      "metadata": {
        "id": "g-SxHl5RSE6e",
        "colab_type": "code",
        "colab": {}
      },
      "source": [
        "class PositionalEncoding(nn.Module):\n",
        "\n",
        "    def __init__(self, d_model, dropout, max_len=5000):\n",
        "        super(PositionalEncoding, self).__init__()\n",
        "        self.dropout = nn.Dropout(p=dropout)\n",
        "        \n",
        "        # Compute the positional encodings once in log space.\n",
        "        pe = torch.zeros(max_len, d_model)\n",
        "        \n",
        "        \n",
        "        position = torch.arange(0., max_len).unsqueeze(1)\n",
        "        div_term = torch.exp(torch.arange(0., d_model, 2) *\n",
        "                             -(math.log(10000.0) / d_model))\n",
        "        pe[:, 0::2] = torch.sin(position * div_term)\n",
        "        pe[:, 1::2] = torch.cos(position * div_term)\n",
        "        pe = pe.unsqueeze(0)\n",
        "        self.register_buffer('pe', pe)\n",
        "        \n",
        "    def forward(self, x):\n",
        "        x = x + Variable(self.pe[:, :x.size(1)], \n",
        "                         requires_grad=False)\n",
        "        return self.dropout(x)"
      ],
      "execution_count": 0,
      "outputs": []
    },
    {
      "cell_type": "markdown",
      "metadata": {
        "id": "K4vxb7yNSE6h",
        "colab_type": "text"
      },
      "source": [
        "#2. Build Full Model"
      ]
    },
    {
      "cell_type": "code",
      "metadata": {
        "id": "JW4-bhocSE6h",
        "colab_type": "code",
        "colab": {}
      },
      "source": [
        "def build_model(src_vocab, tgt_vocab, N=6, \n",
        "               d_model=512, d_ff=2048, h=4, dropout=0.1):\n",
        "    \n",
        "    c = copy.deepcopy\n",
        "    attn = MultiHeadedAttention(h, d_model)\n",
        "    ff = PositionwiseFeedForward(d_model, d_ff, dropout)\n",
        "    position = PositionalEncoding(d_model, dropout)\n",
        "    model = EncoderDecoder(\n",
        "        Encoder(EncoderLayer(d_model, c(attn), c(ff), dropout), N),\n",
        "        Decoder(DecoderLayer(d_model, c(attn), c(attn), \n",
        "                             c(ff), dropout), N),\n",
        "        nn.Sequential(Embeddings(d_model, src_vocab), c(position)),\n",
        "        nn.Sequential(Embeddings(d_model, tgt_vocab), c(position)),\n",
        "        Generator_ffnn(d_model, tgt_vocab))\n",
        "\n",
        "    for p in model.parameters():\n",
        "        if p.dim() > 1:\n",
        "            nn.init.xavier_uniform(p)\n",
        "    return model"
      ],
      "execution_count": 0,
      "outputs": []
    },
    {
      "cell_type": "markdown",
      "metadata": {
        "id": "7kz8r7JdSE6l",
        "colab_type": "text"
      },
      "source": [
        "#3. Data Loading"
      ]
    },
    {
      "cell_type": "code",
      "metadata": {
        "id": "DqXqbq69TbF0",
        "colab_type": "code",
        "outputId": "181a67f4-1ff0-4f7b-ebc2-1a42e2c9e317",
        "colab": {
          "base_uri": "https://localhost:8080/",
          "height": 441
        }
      },
      "source": [
        "!pip install pytorch_pretrained_bert"
      ],
      "execution_count": 0,
      "outputs": [
        {
          "output_type": "stream",
          "text": [
            "Collecting pytorch_pretrained_bert\n",
            "\u001b[?25l  Downloading https://files.pythonhosted.org/packages/d7/e0/c08d5553b89973d9a240605b9c12404bcf8227590de62bae27acbcfe076b/pytorch_pretrained_bert-0.6.2-py3-none-any.whl (123kB)\n",
            "\r\u001b[K     |██▋                             | 10kB 23.3MB/s eta 0:00:01\r\u001b[K     |█████▎                          | 20kB 1.7MB/s eta 0:00:01\r\u001b[K     |████████                        | 30kB 2.3MB/s eta 0:00:01\r\u001b[K     |██████████▋                     | 40kB 2.5MB/s eta 0:00:01\r\u001b[K     |█████████████▎                  | 51kB 2.0MB/s eta 0:00:01\r\u001b[K     |███████████████▉                | 61kB 2.3MB/s eta 0:00:01\r\u001b[K     |██████████████████▌             | 71kB 2.5MB/s eta 0:00:01\r\u001b[K     |█████████████████████▏          | 81kB 2.7MB/s eta 0:00:01\r\u001b[K     |███████████████████████▉        | 92kB 2.9MB/s eta 0:00:01\r\u001b[K     |██████████████████████████▌     | 102kB 2.8MB/s eta 0:00:01\r\u001b[K     |█████████████████████████████▏  | 112kB 2.8MB/s eta 0:00:01\r\u001b[K     |███████████████████████████████▊| 122kB 2.8MB/s eta 0:00:01\r\u001b[K     |████████████████████████████████| 133kB 2.8MB/s \n",
            "\u001b[?25hRequirement already satisfied: numpy in /usr/local/lib/python3.6/dist-packages (from pytorch_pretrained_bert) (1.18.3)\n",
            "Requirement already satisfied: boto3 in /usr/local/lib/python3.6/dist-packages (from pytorch_pretrained_bert) (1.13.1)\n",
            "Requirement already satisfied: tqdm in /usr/local/lib/python3.6/dist-packages (from pytorch_pretrained_bert) (4.38.0)\n",
            "Requirement already satisfied: torch>=0.4.1 in /usr/local/lib/python3.6/dist-packages (from pytorch_pretrained_bert) (1.5.0+cu101)\n",
            "Requirement already satisfied: requests in /usr/local/lib/python3.6/dist-packages (from pytorch_pretrained_bert) (2.23.0)\n",
            "Requirement already satisfied: regex in /usr/local/lib/python3.6/dist-packages (from pytorch_pretrained_bert) (2019.12.20)\n",
            "Requirement already satisfied: botocore<1.17.0,>=1.16.1 in /usr/local/lib/python3.6/dist-packages (from boto3->pytorch_pretrained_bert) (1.16.1)\n",
            "Requirement already satisfied: jmespath<1.0.0,>=0.7.1 in /usr/local/lib/python3.6/dist-packages (from boto3->pytorch_pretrained_bert) (0.9.5)\n",
            "Requirement already satisfied: s3transfer<0.4.0,>=0.3.0 in /usr/local/lib/python3.6/dist-packages (from boto3->pytorch_pretrained_bert) (0.3.3)\n",
            "Requirement already satisfied: future in /usr/local/lib/python3.6/dist-packages (from torch>=0.4.1->pytorch_pretrained_bert) (0.16.0)\n",
            "Requirement already satisfied: urllib3!=1.25.0,!=1.25.1,<1.26,>=1.21.1 in /usr/local/lib/python3.6/dist-packages (from requests->pytorch_pretrained_bert) (1.24.3)\n",
            "Requirement already satisfied: certifi>=2017.4.17 in /usr/local/lib/python3.6/dist-packages (from requests->pytorch_pretrained_bert) (2020.4.5.1)\n",
            "Requirement already satisfied: idna<3,>=2.5 in /usr/local/lib/python3.6/dist-packages (from requests->pytorch_pretrained_bert) (2.9)\n",
            "Requirement already satisfied: chardet<4,>=3.0.2 in /usr/local/lib/python3.6/dist-packages (from requests->pytorch_pretrained_bert) (3.0.4)\n",
            "Requirement already satisfied: docutils<0.16,>=0.10 in /usr/local/lib/python3.6/dist-packages (from botocore<1.17.0,>=1.16.1->boto3->pytorch_pretrained_bert) (0.15.2)\n",
            "Requirement already satisfied: python-dateutil<3.0.0,>=2.1 in /usr/local/lib/python3.6/dist-packages (from botocore<1.17.0,>=1.16.1->boto3->pytorch_pretrained_bert) (2.8.1)\n",
            "Requirement already satisfied: six>=1.5 in /usr/local/lib/python3.6/dist-packages (from python-dateutil<3.0.0,>=2.1->botocore<1.17.0,>=1.16.1->boto3->pytorch_pretrained_bert) (1.12.0)\n",
            "Installing collected packages: pytorch-pretrained-bert\n",
            "Successfully installed pytorch-pretrained-bert-0.6.2\n"
          ],
          "name": "stdout"
        }
      ]
    },
    {
      "cell_type": "code",
      "metadata": {
        "id": "Hk1FVTW9IKW4",
        "colab_type": "code",
        "outputId": "448e0da5-92c4-4995-dc26-5a70379758c8",
        "colab": {
          "base_uri": "https://localhost:8080/",
          "height": 256
        }
      },
      "source": [
        "!gdown https://drive.google.com/uc?id=1OYcrdW8VdQrNQ-P0d8UotHx5QmY7TQaY\n",
        "!unzip \"/content/previous material.zip\""
      ],
      "execution_count": 0,
      "outputs": [
        {
          "output_type": "stream",
          "text": [
            "Downloading...\n",
            "From: https://drive.google.com/uc?id=1OYcrdW8VdQrNQ-P0d8UotHx5QmY7TQaY\n",
            "To: /content/previous material.zip\n",
            "73.1MB [00:01, 68.6MB/s]\n",
            "Archive:  /content/previous material.zip\n",
            "   creating: data/\n",
            " extracting: Taylor_lyrics.ipynb     \n",
            " extracting: data/songdata.csv       \n",
            " extracting: data/tweet_sample.csv   \n",
            " extracting: data/Taylor_lyrics.ipynb  \n",
            " extracting: data/taylor_swift_lyrics.csv  \n",
            " extracting: data/processed_pop_sample.csv  \n",
            " extracting: data/taylor_swift_lyrics_sample.csv  \n"
          ],
          "name": "stdout"
        }
      ]
    },
    {
      "cell_type": "code",
      "metadata": {
        "id": "FJdTYJKHIVW5",
        "colab_type": "code",
        "colab": {}
      },
      "source": [
        "!cp data/taylor_swift_lyrics.csv  /content/"
      ],
      "execution_count": 0,
      "outputs": []
    },
    {
      "cell_type": "code",
      "metadata": {
        "id": "Ef7hzUnCs1bp",
        "colab_type": "code",
        "colab": {}
      },
      "source": [
        "df = pd.read_csv('taylor_swift_lyrics.csv', encoding = \"latin1\")"
      ],
      "execution_count": 0,
      "outputs": []
    },
    {
      "cell_type": "code",
      "metadata": {
        "id": "EJC4E01otFj5",
        "colab_type": "code",
        "outputId": "4264eecc-418c-4f2f-abb0-09877473f9a9",
        "colab": {
          "base_uri": "https://localhost:8080/",
          "height": 206
        }
      },
      "source": [
        "df.head()"
      ],
      "execution_count": 0,
      "outputs": [
        {
          "output_type": "execute_result",
          "data": {
            "text/html": [
              "<div>\n",
              "<style scoped>\n",
              "    .dataframe tbody tr th:only-of-type {\n",
              "        vertical-align: middle;\n",
              "    }\n",
              "\n",
              "    .dataframe tbody tr th {\n",
              "        vertical-align: top;\n",
              "    }\n",
              "\n",
              "    .dataframe thead th {\n",
              "        text-align: right;\n",
              "    }\n",
              "</style>\n",
              "<table border=\"1\" class=\"dataframe\">\n",
              "  <thead>\n",
              "    <tr style=\"text-align: right;\">\n",
              "      <th></th>\n",
              "      <th>artist</th>\n",
              "      <th>album</th>\n",
              "      <th>track_title</th>\n",
              "      <th>track_n</th>\n",
              "      <th>lyric</th>\n",
              "      <th>line</th>\n",
              "      <th>year</th>\n",
              "    </tr>\n",
              "  </thead>\n",
              "  <tbody>\n",
              "    <tr>\n",
              "      <th>0</th>\n",
              "      <td>Taylor Swift</td>\n",
              "      <td>Taylor Swift</td>\n",
              "      <td>Tim McGraw</td>\n",
              "      <td>1</td>\n",
              "      <td>He said the way my blue eyes shined</td>\n",
              "      <td>1</td>\n",
              "      <td>2006</td>\n",
              "    </tr>\n",
              "    <tr>\n",
              "      <th>1</th>\n",
              "      <td>Taylor Swift</td>\n",
              "      <td>Taylor Swift</td>\n",
              "      <td>Tim McGraw</td>\n",
              "      <td>1</td>\n",
              "      <td>Put those Georgia stars to shame that night</td>\n",
              "      <td>2</td>\n",
              "      <td>2006</td>\n",
              "    </tr>\n",
              "    <tr>\n",
              "      <th>2</th>\n",
              "      <td>Taylor Swift</td>\n",
              "      <td>Taylor Swift</td>\n",
              "      <td>Tim McGraw</td>\n",
              "      <td>1</td>\n",
              "      <td>I said, \"That's a lie\"</td>\n",
              "      <td>3</td>\n",
              "      <td>2006</td>\n",
              "    </tr>\n",
              "    <tr>\n",
              "      <th>3</th>\n",
              "      <td>Taylor Swift</td>\n",
              "      <td>Taylor Swift</td>\n",
              "      <td>Tim McGraw</td>\n",
              "      <td>1</td>\n",
              "      <td>Just a boy in a Chevy truck</td>\n",
              "      <td>4</td>\n",
              "      <td>2006</td>\n",
              "    </tr>\n",
              "    <tr>\n",
              "      <th>4</th>\n",
              "      <td>Taylor Swift</td>\n",
              "      <td>Taylor Swift</td>\n",
              "      <td>Tim McGraw</td>\n",
              "      <td>1</td>\n",
              "      <td>That had a tendency of gettin' stuck</td>\n",
              "      <td>5</td>\n",
              "      <td>2006</td>\n",
              "    </tr>\n",
              "  </tbody>\n",
              "</table>\n",
              "</div>"
            ],
            "text/plain": [
              "         artist         album  ... line  year\n",
              "0  Taylor Swift  Taylor Swift  ...    1  2006\n",
              "1  Taylor Swift  Taylor Swift  ...    2  2006\n",
              "2  Taylor Swift  Taylor Swift  ...    3  2006\n",
              "3  Taylor Swift  Taylor Swift  ...    4  2006\n",
              "4  Taylor Swift  Taylor Swift  ...    5  2006\n",
              "\n",
              "[5 rows x 7 columns]"
            ]
          },
          "metadata": {
            "tags": []
          },
          "execution_count": 14
        }
      ]
    },
    {
      "cell_type": "code",
      "metadata": {
        "id": "-ZViamdatJzg",
        "colab_type": "code",
        "colab": {}
      },
      "source": [
        "df['lyrics'] = df['lyric'].str.replace('[^a-zA-Z]', ' ')\n",
        "df[['trg', 'src']] = df['lyrics'].str.rsplit(n=1, expand=True)"
      ],
      "execution_count": 0,
      "outputs": []
    },
    {
      "cell_type": "code",
      "metadata": {
        "id": "vTy-D9h2t4NP",
        "colab_type": "code",
        "colab": {}
      },
      "source": [
        "df = df.drop(columns=['lyrics', 'lyric'])"
      ],
      "execution_count": 0,
      "outputs": []
    },
    {
      "cell_type": "code",
      "metadata": {
        "id": "byNYyHaGvMlt",
        "colab_type": "code",
        "colab": {}
      },
      "source": [
        "df.to_csv('modified_taylor.csv')"
      ],
      "execution_count": 0,
      "outputs": []
    },
    {
      "cell_type": "code",
      "metadata": {
        "id": "-yV3MTl9wS-c",
        "colab_type": "code",
        "outputId": "0ccc611b-c140-4005-86e9-2bb0041c9437",
        "colab": {
          "base_uri": "https://localhost:8080/",
          "height": 72
        }
      },
      "source": [
        "df.columns"
      ],
      "execution_count": 0,
      "outputs": [
        {
          "output_type": "execute_result",
          "data": {
            "text/plain": [
              "Index(['artist', 'album', 'track_title', 'track_n', 'line', 'year', 'trg',\n",
              "       'src'],\n",
              "      dtype='object')"
            ]
          },
          "metadata": {
            "tags": []
          },
          "execution_count": 18
        }
      ]
    },
    {
      "cell_type": "markdown",
      "metadata": {
        "id": "uRAJ9pSeU-pa",
        "colab_type": "text"
      },
      "source": [
        "## Split train, val, and test set"
      ]
    },
    {
      "cell_type": "code",
      "metadata": {
        "id": "r5fet4sWIOZg",
        "colab_type": "code",
        "colab": {}
      },
      "source": [
        "!head -n 800 modified_taylor.csv > test.csv\n",
        "!tail -n +801 modified_taylor.csv > temp.csv"
      ],
      "execution_count": 0,
      "outputs": []
    },
    {
      "cell_type": "code",
      "metadata": {
        "id": "7s87OpvQIOyV",
        "colab_type": "code",
        "colab": {}
      },
      "source": [
        "!head -n 200 temp.csv > val.csv\n",
        "!tail -n +201 temp.csv > train.csv"
      ],
      "execution_count": 0,
      "outputs": []
    },
    {
      "cell_type": "code",
      "metadata": {
        "id": "yR1oJc8hSE6m",
        "colab_type": "code",
        "outputId": "e62eef7d-8b07-4192-d8c7-25213abb0762",
        "colab": {
          "base_uri": "https://localhost:8080/",
          "height": 35
        }
      },
      "source": [
        "# For data loading.\n",
        "from torchtext import data, datasets\n",
        "from pytorch_pretrained_bert import BertTokenizer, BertModel, BertForMaskedLM\n",
        "if True:\n",
        "    # Load pre-trained model tokenizer (vocabulary)\n",
        "    bert_tokenizer = BertTokenizer.from_pretrained('bert-base-uncased')\n",
        "    def tokenize_bert(text):\n",
        "        return bert_tokenizer.tokenize(text)\n",
        "    BOS_WORD = '<s>'\n",
        "    EOS_WORD = '</s>'\n",
        "    BLANK_WORD = \"<blank>\"\n",
        "    SRC = data.Field(tokenize=tokenize_bert, pad_token=BLANK_WORD)\n",
        "    TGT = data.Field(tokenize=tokenize_bert, init_token = BOS_WORD, \n",
        "                     eos_token = EOS_WORD, pad_token=BLANK_WORD)    \n",
        "    MAX_LEN = 150\n",
        "    train, val, test = data.TabularDataset.splits(\n",
        "        path='/content/', format='csv', train='train.csv',\n",
        "        validation='val.csv', test='test.csv',\n",
        "        fields=[('', None), ('artist', None), ('album', None), ('track_title', None), ('track_n', None), ('line', None), ('year', None), ('trg', TGT), ('src', SRC)], skip_header=True)    \n",
        "    MIN_FREQ = 2\n",
        "    SRC.build_vocab(train.src, min_freq=MIN_FREQ)\n",
        "    TGT.build_vocab(train.trg, min_freq=MIN_FREQ)"
      ],
      "execution_count": 0,
      "outputs": [
        {
          "output_type": "stream",
          "text": [
            "100%|██████████| 231508/231508 [00:00<00:00, 319283.20B/s]\n"
          ],
          "name": "stderr"
        }
      ]
    },
    {
      "cell_type": "markdown",
      "metadata": {
        "id": "amRy8CgrSE6o",
        "colab_type": "text"
      },
      "source": [
        "### Iterator"
      ]
    },
    {
      "cell_type": "code",
      "metadata": {
        "id": "VPnSCYjdSE6o",
        "colab_type": "code",
        "colab": {}
      },
      "source": [
        "class BatchIterator(data.Iterator):\n",
        "    def create_batches(self):\n",
        "        if self.train:\n",
        "            def pool(d, random_shuffler):\n",
        "                for p in data.batch(d, self.batch_size * 100):\n",
        "                    p_batch = data.batch(\n",
        "                        sorted(p, key=self.sort_key),\n",
        "                        self.batch_size, self.batch_size_fn)\n",
        "                    for b in random_shuffler(list(p_batch)):\n",
        "                        # print(b.size())\n",
        "                        yield b\n",
        "            self.batches = pool(self.data(), self.random_shuffler)\n",
        "            \n",
        "        else:\n",
        "            self.batches = []\n",
        "            for b in data.batch(self.data(), self.batch_size,\n",
        "                                          self.batch_size_fn):\n",
        "                self.batches.append(sorted(b, key=self.sort_key))\n",
        "\n",
        "def rebatch(pad_idx, batch):\n",
        "    src, trg = batch.src.transpose(0, 1), batch.trg.transpose(0, 1)\n",
        "    src = src.cuda()\n",
        "    trg = trg.cuda()\n",
        "    return Batch(src, trg, pad_idx)"
      ],
      "execution_count": 0,
      "outputs": []
    },
    {
      "cell_type": "markdown",
      "metadata": {
        "id": "jiZUbK2_SE6q",
        "colab_type": "text"
      },
      "source": [
        "#4. Setup Training"
      ]
    },
    {
      "cell_type": "code",
      "metadata": {
        "id": "4drP9WxAyMSb",
        "colab_type": "code",
        "colab": {}
      },
      "source": [
        "class Batch:\n",
        "    def __init__(self, src, trg=None, pad=0):\n",
        "        self.src = src\n",
        "        self.src_mask = (src != pad).unsqueeze(-2)\n",
        "        if trg is not None:\n",
        "            self.trg = trg[:, :-1]\n",
        "            self.trg_y = trg[:, 1:]\n",
        "            self.trg_mask = \\\n",
        "                self.make_std_mask(self.trg, pad)\n",
        "            self.ntokens = (self.trg_y != pad).data.sum()\n",
        "    \n",
        "    @staticmethod\n",
        "    def make_std_mask(tgt, pad):\n",
        "        tgt_mask = (tgt != pad).unsqueeze(-2)\n",
        "        tgt_mask = tgt_mask & Variable(\n",
        "            subsequent_mask(tgt.size(-1)).type_as(tgt_mask.data))\n",
        "        return tgt_mask\n",
        "    \n",
        "def run_epoch(data_iter, model, loss_compute, opt):\n",
        "\n",
        "    start = time.time()\n",
        "    total_tokens = 0\n",
        "    total_loss = 0\n",
        "    tokens = 0\n",
        "    for i, batch in enumerate(data_iter):\n",
        "        opt.optimizer.zero_grad()\n",
        "        out = model.forward(batch.src, batch.trg, \n",
        "                            batch.src_mask, batch.trg_mask)\n",
        "        temp_out = model.generator(out)\n",
        "        loss = loss_compute(temp_out.view(-1, temp_out.size(-1)), batch.trg_y.contiguous().view(-1))\n",
        "        total_loss += loss.item()\n",
        "        total_tokens += batch.ntokens\n",
        "        loss.backward()\n",
        "        opt.step()\n",
        "        tokens += batch.ntokens\n",
        "        if i % 50 == 1:\n",
        "            elapsed = time.time() - start\n",
        "            print(\"Epoch Step: %d Loss: %f Tokens per Sec: %f\" %\n",
        "                    (i, loss / batch.ntokens, tokens / elapsed))\n",
        "            start = time.time()\n",
        "            tokens = 0\n",
        "    return model, total_loss / total_tokens\n",
        "\n",
        "global max_src_in_batch, max_tgt_in_batch\n",
        "def batch_size_fn(new, count, sofar):\n",
        "    \"Keep augmenting batch and calculate total number of tokens + padding.\"\n",
        "    global max_src_in_batch, max_tgt_in_batch\n",
        "    if count == 1:\n",
        "        max_src_in_batch = 0\n",
        "        max_tgt_in_batch = 0\n",
        "    max_src_in_batch = max(max_src_in_batch,  len(new.src))\n",
        "    max_tgt_in_batch = max(max_tgt_in_batch,  len(new.trg) + 2)\n",
        "    src_elements = count * max_src_in_batch\n",
        "    tgt_elements = count * max_tgt_in_batch\n",
        "    return max(src_elements, tgt_elements)\n",
        "\n",
        "class NoamOpt:\n",
        "    \"Optim wrapper that implements rate.\"\n",
        "    def __init__(self, model_size, factor, warmup, optimizer):\n",
        "        self.optimizer = optimizer\n",
        "        self._step = 0\n",
        "        self.warmup = warmup\n",
        "        self.factor = factor\n",
        "        self.model_size = model_size\n",
        "        self._rate = 0\n",
        "        \n",
        "    def step(self):\n",
        "        self._step += 1\n",
        "        rate = self.rate()\n",
        "        for p in self.optimizer.param_groups:\n",
        "            p['lr'] = rate\n",
        "        self._rate = rate\n",
        "        self.optimizer.step()\n",
        "        \n",
        "    def rate(self, step = None):\n",
        "        if step is None:\n",
        "            step = self._step\n",
        "        return self.factor * \\\n",
        "            (self.model_size ** (-0.5) *\n",
        "            min(step ** (-0.5), step * self.warmup ** (-1.5)))\n",
        "        \n",
        "def get_std_opt(model):\n",
        "    return NoamOpt(model.src_embed[0].d_model, 2, 4000,\n",
        "            torch.optim.Adam(model.parameters(), lr=0.001, betas=(0.9, 0.98), eps=1e-9))\n",
        "\n",
        "class LabelSmoothing(nn.Module):\n",
        "    '''\n",
        "    Implement label smoothing according from the reference\n",
        "    '''\n",
        "    def __init__(self, size, padding_idx, smoothing=0.0):\n",
        "        super(LabelSmoothing, self).__init__()\n",
        "        self.criterion = nn.KLDivLoss(size_average=False)\n",
        "        self.padding_idx = padding_idx\n",
        "        self.confidence = 1.0 - smoothing\n",
        "        self.smoothing = smoothing\n",
        "        self.size = size\n",
        "        self.true_dist = None\n",
        "        \n",
        "    def forward(self, x, target):\n",
        "        # print(\"in loss: \", x.size(), target.size())\n",
        "        assert x.size(1) == self.size\n",
        "        true_dist = x.data.clone()\n",
        "        true_dist.fill_(self.smoothing / (self.size - 2))\n",
        "        true_dist.scatter_(1, target.data.unsqueeze(1), self.confidence)\n",
        "        true_dist[:, self.padding_idx] = 0\n",
        "        mask = torch.nonzero(target.data == self.padding_idx)\n",
        "        if mask.dim() > 0:\n",
        "            true_dist.index_fill_(0, mask.squeeze(), 0.0)\n",
        "        self.true_dist = true_dist\n",
        "        return self.criterion(x, Variable(true_dist, requires_grad=False))\n",
        "    \n",
        "def text_gen(model, src, src_mask, max_len, start_symbol):\n",
        "    '''\n",
        "    Generate text\n",
        "    '''\n",
        "\n",
        "    memory = model.encode(src, src_mask)\n",
        "    ys = torch.ones(1, 1).fill_(start_symbol).type_as(src.data)\n",
        "    for i in range(max_len-1):\n",
        "        out = model.decode(memory, src_mask, \n",
        "                           Variable(ys), \n",
        "                           Variable(subsequent_mask(ys.size(1))\n",
        "                                    .type_as(src.data)))\n",
        "        prob = model.generator(out[:, -1])\n",
        "        _, next_word = torch.max(prob, dim = 1)\n",
        "        next_word = next_word.data[0]\n",
        "        ys = torch.cat([ys, \n",
        "                        torch.ones(1, 1).type_as(src.data).fill_(next_word)], dim=1)\n",
        "    return ys"
      ],
      "execution_count": 0,
      "outputs": []
    },
    {
      "cell_type": "code",
      "metadata": {
        "id": "3cZdFOfsSE6q",
        "colab_type": "code",
        "outputId": "c874135f-1feb-4949-c22b-531c1bd5f5ee",
        "colab": {
          "base_uri": "https://localhost:8080/",
          "height": 129
        }
      },
      "source": [
        "# GPUs to use\n",
        "devices = [0]\n",
        "# device = torch.device('cuda:0' if torch.cuda.is_available() else 'cpu')\n",
        "if True:\n",
        "    pad_idx = TGT.vocab.stoi[\"<blank>\"]\n",
        "    model = build_model(len(SRC.vocab), len(TGT.vocab), N=6)\n",
        "    model = model.cuda()\n",
        "    criterion = LabelSmoothing(size=len(TGT.vocab), padding_idx=pad_idx, smoothing=0.1)\n",
        "    criterion = criterion.cuda()\n",
        "    BATCH_SIZE = 512\n",
        "    train_iter = BatchIterator(train, batch_size=BATCH_SIZE, device=0,\n",
        "                            repeat=False, sort_key=lambda x: (len(x.src), len(x.trg)),\n",
        "                            batch_size_fn=batch_size_fn, train=True)\n",
        "    valid_iter = BatchIterator(val, batch_size=BATCH_SIZE, device=0,\n",
        "                            repeat=False, sort_key=lambda x: (len(x.src), len(x.trg)),\n",
        "                            batch_size_fn=batch_size_fn, train=False)\n"
      ],
      "execution_count": 0,
      "outputs": [
        {
          "output_type": "stream",
          "text": [
            "/usr/local/lib/python3.6/dist-packages/ipykernel_launcher.py:18: UserWarning: nn.init.xavier_uniform is now deprecated in favor of nn.init.xavier_uniform_.\n",
            "/usr/local/lib/python3.6/dist-packages/torch/nn/_reduction.py:43: UserWarning: size_average and reduce args will be deprecated, please use reduction='sum' instead.\n",
            "  warnings.warn(warning.format(ret))\n",
            "The `device` argument should be set by using `torch.device` or passing a string as an argument. This behavior will be deprecated soon and currently defaults to cpu.\n",
            "The `device` argument should be set by using `torch.device` or passing a string as an argument. This behavior will be deprecated soon and currently defaults to cpu.\n"
          ],
          "name": "stderr"
        }
      ]
    },
    {
      "cell_type": "code",
      "metadata": {
        "id": "pkIkceHzr5BJ",
        "colab_type": "code",
        "outputId": "6568a1c3-6246-4b76-f13f-0125b676d256",
        "colab": {
          "base_uri": "https://localhost:8080/",
          "height": 35
        }
      },
      "source": [
        "len(TGT.vocab)"
      ],
      "execution_count": 0,
      "outputs": [
        {
          "output_type": "execute_result",
          "data": {
            "text/plain": [
              "1064"
            ]
          },
          "metadata": {
            "tags": []
          },
          "execution_count": 24
        }
      ]
    },
    {
      "cell_type": "markdown",
      "metadata": {
        "id": "3iXhErqNSE6s",
        "colab_type": "text"
      },
      "source": [
        "### Training the System"
      ]
    },
    {
      "cell_type": "code",
      "metadata": {
        "scrolled": true,
        "id": "V5wc1-UTSE6s",
        "colab_type": "code",
        "colab": {}
      },
      "source": [
        "if True:\n",
        "    model_opt = NoamOpt(model.src_embed[0].d_model, 1, 2000,\n",
        "            torch.optim.Adam(model.parameters(), lr=0.01, betas=(0.9, 0.98), eps=1e-9))\n",
        "    # opt = torch.optim.Adam(model.parameters(), lr=0.01, betas=(0.9, 0.98), eps=1e-9)\n",
        "    for epoch in range(10):\n",
        "        print(epoch)\n",
        "        model.train()\n",
        "        model, _ = run_epoch((rebatch(pad_idx, b) for b in train_iter), \n",
        "                  model, \n",
        "                  criterion, model_opt)      "
      ],
      "execution_count": 0,
      "outputs": []
    },
    {
      "cell_type": "markdown",
      "metadata": {
        "id": "TDNfzzMGSE6u",
        "colab_type": "text"
      },
      "source": [
        "#### Save:"
      ]
    },
    {
      "cell_type": "code",
      "metadata": {
        "id": "GaJVaej7SE6v",
        "colab_type": "code",
        "colab": {}
      },
      "source": [
        "PATH = '/content/drive/My Drive/lc_60epoch_6layers.pt'\n",
        "torch.save(model.state_dict(), PATH)"
      ],
      "execution_count": 0,
      "outputs": []
    },
    {
      "cell_type": "markdown",
      "metadata": {
        "id": "CM-I7NdYSE6y",
        "colab_type": "text"
      },
      "source": [
        "#### Load:"
      ]
    },
    {
      "cell_type": "code",
      "metadata": {
        "id": "eDjyOSO4aluj",
        "colab_type": "code",
        "outputId": "d6c48a67-6dfc-436b-85a6-17de1d305805",
        "colab": {
          "base_uri": "https://localhost:8080/"
        }
      },
      "source": [
        "!gdown https://drive.google.com/uc?id=1-BenYw-mCDbh0kMd7tGNjoGi8m9SGBT-\n",
        "!gdown https://drive.google.com/uc?id=1MRWb4yDDWPBJvJS3w2NqPitBXzPsOQTd"
      ],
      "execution_count": 0,
      "outputs": [
        {
          "output_type": "stream",
          "text": [
            "Downloading...\n",
            "From: https://drive.google.com/uc?id=1-BenYw-mCDbh0kMd7tGNjoGi8m9SGBT-\n",
            "To: /content/lc_60epoch_6layers.pt\n",
            "202MB [00:04, 50.2MB/s]\n",
            "Downloading...\n",
            "From: https://drive.google.com/uc?id=1MRWb4yDDWPBJvJS3w2NqPitBXzPsOQTd\n",
            "To: /content/lyricsText.txt\n",
            "100% 174k/174k [00:00<00:00, 61.1MB/s]\n"
          ],
          "name": "stdout"
        }
      ]
    },
    {
      "cell_type": "code",
      "metadata": {
        "id": "vPikota5SE62",
        "colab_type": "code",
        "outputId": "dba0ad6b-a4ea-47b6-8188-b00e7b923515",
        "colab": {
          "base_uri": "https://localhost:8080/"
        }
      },
      "source": [
        "PATH= '/content/lc_60epoch_6layers.pt'\n",
        "model = build_model(len(SRC.vocab), len(TGT.vocab), N=6)\n",
        "model = model.cuda()\n",
        "model.load_state_dict(torch.load(PATH))\n",
        "model.eval()"
      ],
      "execution_count": 0,
      "outputs": [
        {
          "output_type": "stream",
          "text": [
            "/usr/local/lib/python3.6/dist-packages/ipykernel_launcher.py:18: UserWarning: nn.init.xavier_uniform is now deprecated in favor of nn.init.xavier_uniform_.\n"
          ],
          "name": "stderr"
        },
        {
          "output_type": "execute_result",
          "data": {
            "text/plain": [
              "EncoderDecoder(\n",
              "  (encoder): Encoder(\n",
              "    (layers): ModuleList(\n",
              "      (0): EncoderLayer(\n",
              "        (self_attn): MultiHeadedAttention(\n",
              "          (linears): ModuleList(\n",
              "            (0): Linear(in_features=512, out_features=512, bias=True)\n",
              "            (1): Linear(in_features=512, out_features=512, bias=True)\n",
              "            (2): Linear(in_features=512, out_features=512, bias=True)\n",
              "            (3): Linear(in_features=512, out_features=512, bias=True)\n",
              "          )\n",
              "          (dropout): Dropout(p=0.1, inplace=False)\n",
              "        )\n",
              "        (feed_forward): PositionwiseFeedForward(\n",
              "          (w_1): Linear(in_features=512, out_features=2048, bias=True)\n",
              "          (w_2): Linear(in_features=2048, out_features=512, bias=True)\n",
              "          (dropout): Dropout(p=0.1, inplace=False)\n",
              "        )\n",
              "        (sublayer): ModuleList(\n",
              "          (0): Skip_connection(\n",
              "            (norm): normalization()\n",
              "            (dropout): Dropout(p=0.1, inplace=False)\n",
              "          )\n",
              "          (1): Skip_connection(\n",
              "            (norm): normalization()\n",
              "            (dropout): Dropout(p=0.1, inplace=False)\n",
              "          )\n",
              "        )\n",
              "      )\n",
              "      (1): EncoderLayer(\n",
              "        (self_attn): MultiHeadedAttention(\n",
              "          (linears): ModuleList(\n",
              "            (0): Linear(in_features=512, out_features=512, bias=True)\n",
              "            (1): Linear(in_features=512, out_features=512, bias=True)\n",
              "            (2): Linear(in_features=512, out_features=512, bias=True)\n",
              "            (3): Linear(in_features=512, out_features=512, bias=True)\n",
              "          )\n",
              "          (dropout): Dropout(p=0.1, inplace=False)\n",
              "        )\n",
              "        (feed_forward): PositionwiseFeedForward(\n",
              "          (w_1): Linear(in_features=512, out_features=2048, bias=True)\n",
              "          (w_2): Linear(in_features=2048, out_features=512, bias=True)\n",
              "          (dropout): Dropout(p=0.1, inplace=False)\n",
              "        )\n",
              "        (sublayer): ModuleList(\n",
              "          (0): Skip_connection(\n",
              "            (norm): normalization()\n",
              "            (dropout): Dropout(p=0.1, inplace=False)\n",
              "          )\n",
              "          (1): Skip_connection(\n",
              "            (norm): normalization()\n",
              "            (dropout): Dropout(p=0.1, inplace=False)\n",
              "          )\n",
              "        )\n",
              "      )\n",
              "      (2): EncoderLayer(\n",
              "        (self_attn): MultiHeadedAttention(\n",
              "          (linears): ModuleList(\n",
              "            (0): Linear(in_features=512, out_features=512, bias=True)\n",
              "            (1): Linear(in_features=512, out_features=512, bias=True)\n",
              "            (2): Linear(in_features=512, out_features=512, bias=True)\n",
              "            (3): Linear(in_features=512, out_features=512, bias=True)\n",
              "          )\n",
              "          (dropout): Dropout(p=0.1, inplace=False)\n",
              "        )\n",
              "        (feed_forward): PositionwiseFeedForward(\n",
              "          (w_1): Linear(in_features=512, out_features=2048, bias=True)\n",
              "          (w_2): Linear(in_features=2048, out_features=512, bias=True)\n",
              "          (dropout): Dropout(p=0.1, inplace=False)\n",
              "        )\n",
              "        (sublayer): ModuleList(\n",
              "          (0): Skip_connection(\n",
              "            (norm): normalization()\n",
              "            (dropout): Dropout(p=0.1, inplace=False)\n",
              "          )\n",
              "          (1): Skip_connection(\n",
              "            (norm): normalization()\n",
              "            (dropout): Dropout(p=0.1, inplace=False)\n",
              "          )\n",
              "        )\n",
              "      )\n",
              "      (3): EncoderLayer(\n",
              "        (self_attn): MultiHeadedAttention(\n",
              "          (linears): ModuleList(\n",
              "            (0): Linear(in_features=512, out_features=512, bias=True)\n",
              "            (1): Linear(in_features=512, out_features=512, bias=True)\n",
              "            (2): Linear(in_features=512, out_features=512, bias=True)\n",
              "            (3): Linear(in_features=512, out_features=512, bias=True)\n",
              "          )\n",
              "          (dropout): Dropout(p=0.1, inplace=False)\n",
              "        )\n",
              "        (feed_forward): PositionwiseFeedForward(\n",
              "          (w_1): Linear(in_features=512, out_features=2048, bias=True)\n",
              "          (w_2): Linear(in_features=2048, out_features=512, bias=True)\n",
              "          (dropout): Dropout(p=0.1, inplace=False)\n",
              "        )\n",
              "        (sublayer): ModuleList(\n",
              "          (0): Skip_connection(\n",
              "            (norm): normalization()\n",
              "            (dropout): Dropout(p=0.1, inplace=False)\n",
              "          )\n",
              "          (1): Skip_connection(\n",
              "            (norm): normalization()\n",
              "            (dropout): Dropout(p=0.1, inplace=False)\n",
              "          )\n",
              "        )\n",
              "      )\n",
              "      (4): EncoderLayer(\n",
              "        (self_attn): MultiHeadedAttention(\n",
              "          (linears): ModuleList(\n",
              "            (0): Linear(in_features=512, out_features=512, bias=True)\n",
              "            (1): Linear(in_features=512, out_features=512, bias=True)\n",
              "            (2): Linear(in_features=512, out_features=512, bias=True)\n",
              "            (3): Linear(in_features=512, out_features=512, bias=True)\n",
              "          )\n",
              "          (dropout): Dropout(p=0.1, inplace=False)\n",
              "        )\n",
              "        (feed_forward): PositionwiseFeedForward(\n",
              "          (w_1): Linear(in_features=512, out_features=2048, bias=True)\n",
              "          (w_2): Linear(in_features=2048, out_features=512, bias=True)\n",
              "          (dropout): Dropout(p=0.1, inplace=False)\n",
              "        )\n",
              "        (sublayer): ModuleList(\n",
              "          (0): Skip_connection(\n",
              "            (norm): normalization()\n",
              "            (dropout): Dropout(p=0.1, inplace=False)\n",
              "          )\n",
              "          (1): Skip_connection(\n",
              "            (norm): normalization()\n",
              "            (dropout): Dropout(p=0.1, inplace=False)\n",
              "          )\n",
              "        )\n",
              "      )\n",
              "      (5): EncoderLayer(\n",
              "        (self_attn): MultiHeadedAttention(\n",
              "          (linears): ModuleList(\n",
              "            (0): Linear(in_features=512, out_features=512, bias=True)\n",
              "            (1): Linear(in_features=512, out_features=512, bias=True)\n",
              "            (2): Linear(in_features=512, out_features=512, bias=True)\n",
              "            (3): Linear(in_features=512, out_features=512, bias=True)\n",
              "          )\n",
              "          (dropout): Dropout(p=0.1, inplace=False)\n",
              "        )\n",
              "        (feed_forward): PositionwiseFeedForward(\n",
              "          (w_1): Linear(in_features=512, out_features=2048, bias=True)\n",
              "          (w_2): Linear(in_features=2048, out_features=512, bias=True)\n",
              "          (dropout): Dropout(p=0.1, inplace=False)\n",
              "        )\n",
              "        (sublayer): ModuleList(\n",
              "          (0): Skip_connection(\n",
              "            (norm): normalization()\n",
              "            (dropout): Dropout(p=0.1, inplace=False)\n",
              "          )\n",
              "          (1): Skip_connection(\n",
              "            (norm): normalization()\n",
              "            (dropout): Dropout(p=0.1, inplace=False)\n",
              "          )\n",
              "        )\n",
              "      )\n",
              "    )\n",
              "    (norm): normalization()\n",
              "  )\n",
              "  (decoder): Decoder(\n",
              "    (layers): ModuleList(\n",
              "      (0): DecoderLayer(\n",
              "        (self_attn): MultiHeadedAttention(\n",
              "          (linears): ModuleList(\n",
              "            (0): Linear(in_features=512, out_features=512, bias=True)\n",
              "            (1): Linear(in_features=512, out_features=512, bias=True)\n",
              "            (2): Linear(in_features=512, out_features=512, bias=True)\n",
              "            (3): Linear(in_features=512, out_features=512, bias=True)\n",
              "          )\n",
              "          (dropout): Dropout(p=0.1, inplace=False)\n",
              "        )\n",
              "        (src_attn): MultiHeadedAttention(\n",
              "          (linears): ModuleList(\n",
              "            (0): Linear(in_features=512, out_features=512, bias=True)\n",
              "            (1): Linear(in_features=512, out_features=512, bias=True)\n",
              "            (2): Linear(in_features=512, out_features=512, bias=True)\n",
              "            (3): Linear(in_features=512, out_features=512, bias=True)\n",
              "          )\n",
              "          (dropout): Dropout(p=0.1, inplace=False)\n",
              "        )\n",
              "        (feed_forward): PositionwiseFeedForward(\n",
              "          (w_1): Linear(in_features=512, out_features=2048, bias=True)\n",
              "          (w_2): Linear(in_features=2048, out_features=512, bias=True)\n",
              "          (dropout): Dropout(p=0.1, inplace=False)\n",
              "        )\n",
              "        (sublayer): ModuleList(\n",
              "          (0): Skip_connection(\n",
              "            (norm): normalization()\n",
              "            (dropout): Dropout(p=0.1, inplace=False)\n",
              "          )\n",
              "          (1): Skip_connection(\n",
              "            (norm): normalization()\n",
              "            (dropout): Dropout(p=0.1, inplace=False)\n",
              "          )\n",
              "          (2): Skip_connection(\n",
              "            (norm): normalization()\n",
              "            (dropout): Dropout(p=0.1, inplace=False)\n",
              "          )\n",
              "        )\n",
              "      )\n",
              "      (1): DecoderLayer(\n",
              "        (self_attn): MultiHeadedAttention(\n",
              "          (linears): ModuleList(\n",
              "            (0): Linear(in_features=512, out_features=512, bias=True)\n",
              "            (1): Linear(in_features=512, out_features=512, bias=True)\n",
              "            (2): Linear(in_features=512, out_features=512, bias=True)\n",
              "            (3): Linear(in_features=512, out_features=512, bias=True)\n",
              "          )\n",
              "          (dropout): Dropout(p=0.1, inplace=False)\n",
              "        )\n",
              "        (src_attn): MultiHeadedAttention(\n",
              "          (linears): ModuleList(\n",
              "            (0): Linear(in_features=512, out_features=512, bias=True)\n",
              "            (1): Linear(in_features=512, out_features=512, bias=True)\n",
              "            (2): Linear(in_features=512, out_features=512, bias=True)\n",
              "            (3): Linear(in_features=512, out_features=512, bias=True)\n",
              "          )\n",
              "          (dropout): Dropout(p=0.1, inplace=False)\n",
              "        )\n",
              "        (feed_forward): PositionwiseFeedForward(\n",
              "          (w_1): Linear(in_features=512, out_features=2048, bias=True)\n",
              "          (w_2): Linear(in_features=2048, out_features=512, bias=True)\n",
              "          (dropout): Dropout(p=0.1, inplace=False)\n",
              "        )\n",
              "        (sublayer): ModuleList(\n",
              "          (0): Skip_connection(\n",
              "            (norm): normalization()\n",
              "            (dropout): Dropout(p=0.1, inplace=False)\n",
              "          )\n",
              "          (1): Skip_connection(\n",
              "            (norm): normalization()\n",
              "            (dropout): Dropout(p=0.1, inplace=False)\n",
              "          )\n",
              "          (2): Skip_connection(\n",
              "            (norm): normalization()\n",
              "            (dropout): Dropout(p=0.1, inplace=False)\n",
              "          )\n",
              "        )\n",
              "      )\n",
              "      (2): DecoderLayer(\n",
              "        (self_attn): MultiHeadedAttention(\n",
              "          (linears): ModuleList(\n",
              "            (0): Linear(in_features=512, out_features=512, bias=True)\n",
              "            (1): Linear(in_features=512, out_features=512, bias=True)\n",
              "            (2): Linear(in_features=512, out_features=512, bias=True)\n",
              "            (3): Linear(in_features=512, out_features=512, bias=True)\n",
              "          )\n",
              "          (dropout): Dropout(p=0.1, inplace=False)\n",
              "        )\n",
              "        (src_attn): MultiHeadedAttention(\n",
              "          (linears): ModuleList(\n",
              "            (0): Linear(in_features=512, out_features=512, bias=True)\n",
              "            (1): Linear(in_features=512, out_features=512, bias=True)\n",
              "            (2): Linear(in_features=512, out_features=512, bias=True)\n",
              "            (3): Linear(in_features=512, out_features=512, bias=True)\n",
              "          )\n",
              "          (dropout): Dropout(p=0.1, inplace=False)\n",
              "        )\n",
              "        (feed_forward): PositionwiseFeedForward(\n",
              "          (w_1): Linear(in_features=512, out_features=2048, bias=True)\n",
              "          (w_2): Linear(in_features=2048, out_features=512, bias=True)\n",
              "          (dropout): Dropout(p=0.1, inplace=False)\n",
              "        )\n",
              "        (sublayer): ModuleList(\n",
              "          (0): Skip_connection(\n",
              "            (norm): normalization()\n",
              "            (dropout): Dropout(p=0.1, inplace=False)\n",
              "          )\n",
              "          (1): Skip_connection(\n",
              "            (norm): normalization()\n",
              "            (dropout): Dropout(p=0.1, inplace=False)\n",
              "          )\n",
              "          (2): Skip_connection(\n",
              "            (norm): normalization()\n",
              "            (dropout): Dropout(p=0.1, inplace=False)\n",
              "          )\n",
              "        )\n",
              "      )\n",
              "      (3): DecoderLayer(\n",
              "        (self_attn): MultiHeadedAttention(\n",
              "          (linears): ModuleList(\n",
              "            (0): Linear(in_features=512, out_features=512, bias=True)\n",
              "            (1): Linear(in_features=512, out_features=512, bias=True)\n",
              "            (2): Linear(in_features=512, out_features=512, bias=True)\n",
              "            (3): Linear(in_features=512, out_features=512, bias=True)\n",
              "          )\n",
              "          (dropout): Dropout(p=0.1, inplace=False)\n",
              "        )\n",
              "        (src_attn): MultiHeadedAttention(\n",
              "          (linears): ModuleList(\n",
              "            (0): Linear(in_features=512, out_features=512, bias=True)\n",
              "            (1): Linear(in_features=512, out_features=512, bias=True)\n",
              "            (2): Linear(in_features=512, out_features=512, bias=True)\n",
              "            (3): Linear(in_features=512, out_features=512, bias=True)\n",
              "          )\n",
              "          (dropout): Dropout(p=0.1, inplace=False)\n",
              "        )\n",
              "        (feed_forward): PositionwiseFeedForward(\n",
              "          (w_1): Linear(in_features=512, out_features=2048, bias=True)\n",
              "          (w_2): Linear(in_features=2048, out_features=512, bias=True)\n",
              "          (dropout): Dropout(p=0.1, inplace=False)\n",
              "        )\n",
              "        (sublayer): ModuleList(\n",
              "          (0): Skip_connection(\n",
              "            (norm): normalization()\n",
              "            (dropout): Dropout(p=0.1, inplace=False)\n",
              "          )\n",
              "          (1): Skip_connection(\n",
              "            (norm): normalization()\n",
              "            (dropout): Dropout(p=0.1, inplace=False)\n",
              "          )\n",
              "          (2): Skip_connection(\n",
              "            (norm): normalization()\n",
              "            (dropout): Dropout(p=0.1, inplace=False)\n",
              "          )\n",
              "        )\n",
              "      )\n",
              "      (4): DecoderLayer(\n",
              "        (self_attn): MultiHeadedAttention(\n",
              "          (linears): ModuleList(\n",
              "            (0): Linear(in_features=512, out_features=512, bias=True)\n",
              "            (1): Linear(in_features=512, out_features=512, bias=True)\n",
              "            (2): Linear(in_features=512, out_features=512, bias=True)\n",
              "            (3): Linear(in_features=512, out_features=512, bias=True)\n",
              "          )\n",
              "          (dropout): Dropout(p=0.1, inplace=False)\n",
              "        )\n",
              "        (src_attn): MultiHeadedAttention(\n",
              "          (linears): ModuleList(\n",
              "            (0): Linear(in_features=512, out_features=512, bias=True)\n",
              "            (1): Linear(in_features=512, out_features=512, bias=True)\n",
              "            (2): Linear(in_features=512, out_features=512, bias=True)\n",
              "            (3): Linear(in_features=512, out_features=512, bias=True)\n",
              "          )\n",
              "          (dropout): Dropout(p=0.1, inplace=False)\n",
              "        )\n",
              "        (feed_forward): PositionwiseFeedForward(\n",
              "          (w_1): Linear(in_features=512, out_features=2048, bias=True)\n",
              "          (w_2): Linear(in_features=2048, out_features=512, bias=True)\n",
              "          (dropout): Dropout(p=0.1, inplace=False)\n",
              "        )\n",
              "        (sublayer): ModuleList(\n",
              "          (0): Skip_connection(\n",
              "            (norm): normalization()\n",
              "            (dropout): Dropout(p=0.1, inplace=False)\n",
              "          )\n",
              "          (1): Skip_connection(\n",
              "            (norm): normalization()\n",
              "            (dropout): Dropout(p=0.1, inplace=False)\n",
              "          )\n",
              "          (2): Skip_connection(\n",
              "            (norm): normalization()\n",
              "            (dropout): Dropout(p=0.1, inplace=False)\n",
              "          )\n",
              "        )\n",
              "      )\n",
              "      (5): DecoderLayer(\n",
              "        (self_attn): MultiHeadedAttention(\n",
              "          (linears): ModuleList(\n",
              "            (0): Linear(in_features=512, out_features=512, bias=True)\n",
              "            (1): Linear(in_features=512, out_features=512, bias=True)\n",
              "            (2): Linear(in_features=512, out_features=512, bias=True)\n",
              "            (3): Linear(in_features=512, out_features=512, bias=True)\n",
              "          )\n",
              "          (dropout): Dropout(p=0.1, inplace=False)\n",
              "        )\n",
              "        (src_attn): MultiHeadedAttention(\n",
              "          (linears): ModuleList(\n",
              "            (0): Linear(in_features=512, out_features=512, bias=True)\n",
              "            (1): Linear(in_features=512, out_features=512, bias=True)\n",
              "            (2): Linear(in_features=512, out_features=512, bias=True)\n",
              "            (3): Linear(in_features=512, out_features=512, bias=True)\n",
              "          )\n",
              "          (dropout): Dropout(p=0.1, inplace=False)\n",
              "        )\n",
              "        (feed_forward): PositionwiseFeedForward(\n",
              "          (w_1): Linear(in_features=512, out_features=2048, bias=True)\n",
              "          (w_2): Linear(in_features=2048, out_features=512, bias=True)\n",
              "          (dropout): Dropout(p=0.1, inplace=False)\n",
              "        )\n",
              "        (sublayer): ModuleList(\n",
              "          (0): Skip_connection(\n",
              "            (norm): normalization()\n",
              "            (dropout): Dropout(p=0.1, inplace=False)\n",
              "          )\n",
              "          (1): Skip_connection(\n",
              "            (norm): normalization()\n",
              "            (dropout): Dropout(p=0.1, inplace=False)\n",
              "          )\n",
              "          (2): Skip_connection(\n",
              "            (norm): normalization()\n",
              "            (dropout): Dropout(p=0.1, inplace=False)\n",
              "          )\n",
              "        )\n",
              "      )\n",
              "    )\n",
              "    (norm): normalization()\n",
              "  )\n",
              "  (src_embed): Sequential(\n",
              "    (0): Embeddings(\n",
              "      (lut): Embedding(466, 512)\n",
              "    )\n",
              "    (1): PositionalEncoding(\n",
              "      (dropout): Dropout(p=0.1, inplace=False)\n",
              "    )\n",
              "  )\n",
              "  (tgt_embed): Sequential(\n",
              "    (0): Embeddings(\n",
              "      (lut): Embedding(1064, 512)\n",
              "    )\n",
              "    (1): PositionalEncoding(\n",
              "      (dropout): Dropout(p=0.1, inplace=False)\n",
              "    )\n",
              "  )\n",
              "  (generator): Generator_ffnn(\n",
              "    (proj): Linear(in_features=512, out_features=1064, bias=True)\n",
              "  )\n",
              ")"
            ]
          },
          "metadata": {
            "tags": []
          },
          "execution_count": 28
        }
      ]
    },
    {
      "cell_type": "markdown",
      "metadata": {
        "id": "PUWVCQriSE64",
        "colab_type": "text"
      },
      "source": [
        "#### one example prediction"
      ]
    },
    {
      "cell_type": "code",
      "metadata": {
        "id": "_WPEg46BbPkC",
        "colab_type": "code",
        "colab": {}
      },
      "source": [
        "# ## predict online\n",
        "\n",
        "# name_lis = ['She said the way her black eye', \n",
        "#            'Just a boy in my hand',\n",
        "#            \"I don't know\",\n",
        "#            'You are my love']\n",
        "def predict_online(s):\n",
        "    ans = []\n",
        "    product_name = s\n",
        "    example = data.Example.fromlist([product_name, ''], \n",
        "                                fields=[('src', SRC), ('trg', TGT)])\n",
        "    src = torch.LongTensor([list(SRC.vocab.stoi[s] for s in example.src)])\n",
        "    print('*'*110)\n",
        "    print(src)\n",
        "    src = src.cuda()\n",
        "    src_mask = (src != SRC.vocab.stoi[\"<blank>\"]).unsqueeze(-2)\n",
        "    src_mask = src_mask.cuda()\n",
        "    out = text_gen(model, src, src_mask, \n",
        "                        max_len=100, start_symbol=TGT.vocab.stoi[\"<s>\"])    \n",
        "    print(\"Source:\", end=\"\\t\")\n",
        "    print(product_name)\n",
        "    print(\"Generated:\", end=\"\\t\")\n",
        "    for i in range(1, out.size(1)):\n",
        "        sym = TGT.vocab.itos[out[0, i]]\n",
        "        if sym == \"</s>\": break\n",
        "        if sym != \"<unk>\": \n",
        "          print(sym, end =\" \") \n",
        "          ans.append(sym)\n",
        "    print()\n",
        "    return ans\n",
        "# for _ in name_lis:\n",
        "#     predict_online(_)"
      ],
      "execution_count": 0,
      "outputs": []
    },
    {
      "cell_type": "markdown",
      "metadata": {
        "id": "eMZOAPQjbRPE",
        "colab_type": "text"
      },
      "source": [
        "#5. Final prediction"
      ]
    },
    {
      "cell_type": "code",
      "metadata": {
        "id": "VkQdgjwKRfzY",
        "colab_type": "code",
        "outputId": "4d42b51b-3ffc-4562-9a34-6fbc159a7161",
        "colab": {
          "base_uri": "https://localhost:8080/",
          "height": 1000
        }
      },
      "source": [
        "with open('lyricsText.txt', 'r+') as f:\n",
        "  original = []\n",
        "  final = []\n",
        "  k = 0\n",
        "  for i in f:\n",
        "    if k < 20:\n",
        "      original.append(i[:-2])\n",
        "      ans = predict_online(i)\n",
        "      seen = {}\n",
        "      for j in ans:\n",
        "        if j not in seen:\n",
        "          seen[j] =1\n",
        "        else:\n",
        "          seen[j] +=1\n",
        "      indicator = 0\n",
        "      for key, val in seen.items():\n",
        "        if val >=10:\n",
        "          indicator=1\n",
        "      if indicator ==0:\n",
        "        final.append(' '.join(ans))\n",
        "    k +=1\n"
      ],
      "execution_count": 0,
      "outputs": [
        {
          "output_type": "stream",
          "text": [
            "**************************************************************************************************************\n",
            "tensor([[401, 101,   0,  68,   0, 368, 121, 137,   0]])\n",
            "Source:\tHe said the way my blue eyes shined\n",
            "\n",
            "Generated:\tand i hope sometimes you wonder about your \n",
            "**************************************************************************************************************\n",
            "tensor([[ 0,  0,  0,  0, 43,  0, 17, 61]])\n",
            "Source:\tPut those Georgia stars to shame that night\n",
            "\n",
            "Generated:\tand i hope you don t save you got \n",
            "**************************************************************************************************************\n",
            "tensor([[ 18, 101,   0,   0,  17,   0,   0,   0,   0,   0]])\n",
            "Source:\tI said, \"That's a lie\"\n",
            "\n",
            "Generated:\tand i hope sometimes you wonder about \n",
            "**************************************************************************************************************\n",
            "tensor([[  0,   0, 271,  21,   0,   0,   0]])\n",
            "Source:\tJust a boy in a Chevy truck\n",
            "\n",
            "Generated:\tbut you can take me down with just one single \n",
            "**************************************************************************************************************\n",
            "tensor([[ 17, 190,   0,   0, 246,   0,   0,   0,   0]])\n",
            "Source:\tThat had a tendency of gettin' stuck\n",
            "\n",
            "Generated:\ti i i loved you in \n",
            "**************************************************************************************************************\n",
            "tensor([[100,  25,   0,   0, 366,  61]])\n",
            "Source:\tOn backroads at night\n",
            "\n",
            "Generated:\tbar on the side where you \n",
            "**************************************************************************************************************\n",
            "tensor([[ 85,  18, 174,  57, 102,   0, 191,  84,   0,   0]])\n",
            "Source:\tAnd I was right there beside him all summer long\n",
            "\n",
            "Generated:\ti m wine in the \n",
            "**************************************************************************************************************\n",
            "tensor([[ 85, 345,   0,   7, 458,   0,  19,  43,   0,  17,   0,  41]])\n",
            "Source:\tAnd then the time we woke up to find that summer gone\n",
            "\n",
            "Generated:\tyou don t know how nice that is but i m \n",
            "**************************************************************************************************************\n",
            "tensor([[272, 461,   2, 254,   0,   0]])\n",
            "Source:\tBut when you think Tim McGraw\n",
            "\n",
            "Generated:\twe were jet set and and the \n",
            "**************************************************************************************************************\n",
            "tensor([[ 18,   0,   2, 254,   0,   0, 439]])\n",
            "Source:\tI hope you think my favorite song\n",
            "\n",
            "Generated:\tbut you weren t \n",
            "**************************************************************************************************************\n",
            "tensor([[  0,  67, 458,   0,  43,  84,  61,   0]])\n",
            "Source:\tThe one we danced to all night long\n",
            "\n",
            "Generated:\tand i love you because you have me no choice but \n",
            "**************************************************************************************************************\n",
            "tensor([[  0,   0,  53,   0,   0, 100,   0,   0]])\n",
            "Source:\tThe moon like a spotlight on the lake\n",
            "\n",
            "Generated:\tand i got that red lip classic thing that you \n",
            "**************************************************************************************************************\n",
            "tensor([[461,   2, 254,   0]])\n",
            "Source:\tWhen you think happiness\n",
            "\n",
            "Generated:\tbut you weren t \n",
            "**************************************************************************************************************\n",
            "tensor([[ 18,   0,   2, 254,  17, 161,   0,  95]])\n",
            "Source:\tI hope you think that little black dress\n",
            "\n",
            "Generated:\tand i hope you don t save you know \n",
            "**************************************************************************************************************\n",
            "tensor([[254, 246,   0, 156, 100, 354,   0]])\n",
            "Source:\tThink of my head on your chest\n",
            "\n",
            "Generated:\tyou re not a saint and she s not what you \n",
            "**************************************************************************************************************\n",
            "tensor([[ 85,   0,   0,   0, 368,   0]])\n",
            "Source:\tAnd my old faded blue jeans\n",
            "\n",
            "Generated:\toh how were you to know \n",
            "**************************************************************************************************************\n",
            "tensor([[461,   2, 254,   0,   0]])\n",
            "Source:\tWhen you think Tim McGraw\n",
            "\n",
            "Generated:\tbut you weren t \n",
            "**************************************************************************************************************\n",
            "tensor([[ 18,   0,   2, 254, 246,   3]])\n",
            "Source:\tI hope you think of me\n",
            "\n",
            "Generated:\tbut you weren t \n",
            "**************************************************************************************************************\n",
            "tensor([[  0,   0,   0, 419, 246,   0]])\n",
            "Source:\tSeptember saw a month of tears\n",
            "\n",
            "Generated:\twe re all here the lights and noise are \n",
            "**************************************************************************************************************\n",
            "tensor([[ 85,   0, 106,   0,   0,  17,   2,   0,   0, 140,  46]])\n",
            "Source:\tAnd thankin' God that you weren't here\n",
            "\n",
            "Generated:\tyou said you d be \n"
          ],
          "name": "stdout"
        }
      ]
    },
    {
      "cell_type": "code",
      "metadata": {
        "id": "MiFNdvlxUfLC",
        "colab_type": "code",
        "outputId": "87bec29b-df57-4972-b42d-807232099a4f",
        "colab": {
          "base_uri": "https://localhost:8080/",
          "height": 384
        }
      },
      "source": [
        "original"
      ],
      "execution_count": 0,
      "outputs": [
        {
          "output_type": "execute_result",
          "data": {
            "text/plain": [
              "['He said the way my blue eyes shine',\n",
              " 'Put those Georgia stars to shame that nigh',\n",
              " 'I said, \"That\\'s a lie',\n",
              " 'Just a boy in a Chevy truc',\n",
              " \"That had a tendency of gettin' stuc\",\n",
              " 'On backroads at nigh',\n",
              " 'And I was right there beside him all summer lon',\n",
              " 'And then the time we woke up to find that summer gon',\n",
              " 'But when you think Tim McGra',\n",
              " 'I hope you think my favorite son',\n",
              " 'The one we danced to all night lon',\n",
              " 'The moon like a spotlight on the lak',\n",
              " 'When you think happines',\n",
              " 'I hope you think that little black dres',\n",
              " 'Think of my head on your ches',\n",
              " 'And my old faded blue jean',\n",
              " 'When you think Tim McGra',\n",
              " 'I hope you think of m',\n",
              " 'September saw a month of tear',\n",
              " \"And thankin' God that you weren't her\"]"
            ]
          },
          "metadata": {
            "tags": []
          },
          "execution_count": 62
        }
      ]
    },
    {
      "cell_type": "code",
      "metadata": {
        "id": "31KasmmjR_Qb",
        "colab_type": "code",
        "outputId": "403c9695-c27d-450c-d191-30161a29d874",
        "colab": {
          "base_uri": "https://localhost:8080/",
          "height": 384
        }
      },
      "source": [
        "final"
      ],
      "execution_count": 0,
      "outputs": [
        {
          "output_type": "execute_result",
          "data": {
            "text/plain": [
              "['and i hope sometimes you wonder about your',\n",
              " 'and i hope you don t save you got',\n",
              " 'and i hope sometimes you wonder about',\n",
              " 'but you can take me down with just one single',\n",
              " 'i i i loved you in',\n",
              " 'bar on the side where you',\n",
              " 'i m wine in the',\n",
              " 'you don t know how nice that is but i m',\n",
              " 'we were jet set and and the',\n",
              " 'but you weren t',\n",
              " 'and i love you because you have me no choice but',\n",
              " 'and i got that red lip classic thing that you',\n",
              " 'but you weren t',\n",
              " 'and i hope you don t save you know',\n",
              " 'you re not a saint and she s not what you',\n",
              " 'oh how were you to know',\n",
              " 'but you weren t',\n",
              " 'but you weren t',\n",
              " 'we re all here the lights and noise are',\n",
              " 'you said you d be']"
            ]
          },
          "metadata": {
            "tags": []
          },
          "execution_count": 63
        }
      ]
    },
    {
      "cell_type": "markdown",
      "metadata": {
        "colab_type": "text",
        "id": "NaPnqAuAQ5Os"
      },
      "source": [
        "# 6. Evaluation/Evaluation Metrics"
      ]
    },
    {
      "cell_type": "markdown",
      "metadata": {
        "id": "j3uXtDLx9OTG",
        "colab_type": "text"
      },
      "source": [
        "### World Cloud"
      ]
    },
    {
      "cell_type": "code",
      "metadata": {
        "id": "zOoM4aeoS4sa",
        "colab_type": "code",
        "outputId": "eb5018ee-cbb6-47d9-de7d-15cd871b71a4",
        "colab": {
          "base_uri": "https://localhost:8080/",
          "height": 335
        }
      },
      "source": [
        "import matplotlib.pyplot as plt\n",
        "from wordcloud import WordCloud\n",
        "\n",
        "# combine all the generated lyrics into a string, and feed it into the wordcloud generate function\n",
        "wc = WordCloud().generate(','.join(l for l in final))\n",
        "\n",
        "# form the word cloud of the most frequently used words in the lyrics\n",
        "plt.figure(figsize=(10,30))\n",
        "plt.title('Word cloud from the generated lyrics', fontsize=25)\n",
        "plt.imshow(wc)\n",
        "plt.axis(\"off\") # added to not display the x and y axis\n",
        "plt.show()"
      ],
      "execution_count": 0,
      "outputs": [
        {
          "output_type": "display_data",
          "data": {
            "image/png": "[encoded data removed]",
            "text/plain": [
              "<Figure size 720x2160 with 1 Axes>"
            ]
          },
          "metadata": {
            "tags": [],
            "needs_background": "light"
          }
        }
      ]
    },
    {
      "cell_type": "markdown",
      "metadata": {
        "id": "Kr3eFwt29XGT",
        "colab_type": "text"
      },
      "source": [
        "### ​Flow Irregularity\n",
        "Not Rhyme Density (RD)??\n",
        "- Now our aim is to give a score to list of the last 2 unique charactes list we formed earlier. This is done in order to give closer score to the words which end with the same syllable sound.\n",
        "\n",
        "- To calculate the value for the index position, we are using the formula:\n",
        "                [Index position of the 2 charcaters in the list] / [Total length of the list]\n"
      ]
    },
    {
      "cell_type": "code",
      "metadata": {
        "id": "dPt6bK882Heu",
        "colab_type": "code",
        "outputId": "ea7378bf-17f4-442a-eb5e-0e77e8f341ab",
        "colab": {
          "base_uri": "https://localhost:8080/",
          "height": 735
        }
      },
      "source": [
        "!pip install pronouncing\n",
        "!pip install pywsd\n",
        "!pip install syllables"
      ],
      "execution_count": 0,
      "outputs": [
        {
          "output_type": "stream",
          "text": [
            "Collecting pronouncing\n",
            "  Downloading https://files.pythonhosted.org/packages/7f/c6/9dc74a3ddca71c492e224116b6654592bfe5717b4a78582e4d9c3345d153/pronouncing-0.2.0.tar.gz\n",
            "Collecting cmudict>=0.4.0\n",
            "\u001b[?25l  Downloading https://files.pythonhosted.org/packages/fe/cf/4d24ac4f3ea5a57406a690ad7c07023c310185eac99adae7473c9ebdf550/cmudict-0.4.4-py2.py3-none-any.whl (938kB)\n",
            "\u001b[K     |████████████████████████████████| 942kB 3.8MB/s \n",
            "\u001b[?25hBuilding wheels for collected packages: pronouncing\n",
            "  Building wheel for pronouncing (setup.py) ... \u001b[?25l\u001b[?25hdone\n",
            "  Created wheel for pronouncing: filename=pronouncing-0.2.0-py2.py3-none-any.whl size=6223 sha256=cb8ad5ae3e724912b7adf85d62610939555716004afcb9cc649892cd99710e3d\n",
            "  Stored in directory: /root/.cache/pip/wheels/81/fd/e8/fb1a226f707c7e20dbed4c43f81b819d279ffd3b0e2f06ee13\n",
            "Successfully built pronouncing\n",
            "Installing collected packages: cmudict, pronouncing\n",
            "Successfully installed cmudict-0.4.4 pronouncing-0.2.0\n",
            "Collecting pywsd\n",
            "\u001b[?25l  Downloading https://files.pythonhosted.org/packages/9d/bb/427a49c461b0970c124509f77d2cd75bdca0daa746155c45d065f0af93e3/pywsd-1.2.4.tar.gz (26.8MB)\n",
            "\u001b[K     |████████████████████████████████| 26.8MB 117kB/s \n",
            "\u001b[?25hRequirement already satisfied: nltk in /usr/local/lib/python3.6/dist-packages (from pywsd) (3.2.5)\n",
            "Requirement already satisfied: numpy in /usr/local/lib/python3.6/dist-packages (from pywsd) (1.18.3)\n",
            "Requirement already satisfied: pandas in /usr/local/lib/python3.6/dist-packages (from pywsd) (1.0.3)\n",
            "Collecting wn\n",
            "\u001b[?25l  Downloading https://files.pythonhosted.org/packages/bc/f6/72db36e8afc977ae1a1cbb22afc77fd9b514e9bc6927ae8f4aae36665961/wn-0.0.23.tar.gz (31.6MB)\n",
            "\u001b[K     |████████████████████████████████| 31.6MB 201kB/s \n",
            "\u001b[?25hRequirement already satisfied: six in /usr/local/lib/python3.6/dist-packages (from pywsd) (1.12.0)\n",
            "Requirement already satisfied: pytz>=2017.2 in /usr/local/lib/python3.6/dist-packages (from pandas->pywsd) (2018.9)\n",
            "Requirement already satisfied: python-dateutil>=2.6.1 in /usr/local/lib/python3.6/dist-packages (from pandas->pywsd) (2.8.1)\n",
            "Building wheels for collected packages: pywsd, wn\n",
            "  Building wheel for pywsd (setup.py) ... \u001b[?25l\u001b[?25hdone\n",
            "  Created wheel for pywsd: filename=pywsd-1.2.4-cp36-none-any.whl size=26940453 sha256=4c829bd86d72241695b5aa12c8c3a4b4ab872f2b95e892026b94ab6846c60109\n",
            "  Stored in directory: /root/.cache/pip/wheels/71/4d/d2/405b948047f7f3851f16ab9d893ce7c1a3010182900884536b\n",
            "  Building wheel for wn (setup.py) ... \u001b[?25l\u001b[?25hdone\n",
            "  Created wheel for wn: filename=wn-0.0.23-cp36-none-any.whl size=31792943 sha256=0d7e32f7e3352e21c4289477c652b5f8eecd4d1821b521f326c1baf71afc469e\n",
            "  Stored in directory: /root/.cache/pip/wheels/56/e3/c4/886021dbf4d758dc3cb9ddaa47d7d6fc895240d83f010e6305\n",
            "Successfully built pywsd wn\n",
            "Installing collected packages: wn, pywsd\n",
            "Successfully installed pywsd-1.2.4 wn-0.0.23\n",
            "Collecting syllables\n",
            "  Downloading https://files.pythonhosted.org/packages/16/d9/81a31f640ccf405fdfd0eae8eebfc2579b438804dbf34dc03cad3e76169a/syllables-0.1.0-py2.py3-none-any.whl\n",
            "Installing collected packages: syllables\n",
            "Successfully installed syllables-0.1.0\n"
          ],
          "name": "stdout"
        }
      ]
    },
    {
      "cell_type": "code",
      "metadata": {
        "id": "jhdlsrXG2UOC",
        "colab_type": "code",
        "outputId": "8b142291-eea0-47e8-a437-ae57af931795",
        "colab": {
          "base_uri": "https://localhost:8080/",
          "height": 164
        }
      },
      "source": [
        "import nltk\n",
        "nltk.download('averaged_perceptron_tagger')\n",
        "from nltk.stem import WordNetLemmatizer\n",
        "from pywsd.utils import lemmatize_sentence\n",
        "from sklearn.feature_extraction.text import TfidfVectorizer\n",
        "from nltk.tokenize import word_tokenize\n",
        "import pronouncing\n",
        "\n",
        "nltk.download('punkt')\n",
        "import nltk \n",
        "nltk.download('wordnet') \n",
        "\n",
        "stemmer = nltk.stem.porter.PorterStemmer()\n",
        "lmm = WordNetLemmatizer()"
      ],
      "execution_count": 0,
      "outputs": [
        {
          "output_type": "stream",
          "text": [
            "[nltk_data] Downloading package averaged_perceptron_tagger to\n",
            "[nltk_data]     /root/nltk_data...\n",
            "[nltk_data]   Package averaged_perceptron_tagger is already up-to-\n",
            "[nltk_data]       date!\n",
            "[nltk_data] Downloading package punkt to /root/nltk_data...\n",
            "[nltk_data]   Unzipping tokenizers/punkt.zip.\n",
            "[nltk_data] Downloading package wordnet to /root/nltk_data...\n",
            "[nltk_data]   Unzipping corpora/wordnet.zip.\n"
          ],
          "name": "stdout"
        }
      ]
    },
    {
      "cell_type": "code",
      "metadata": {
        "id": "eD5iEp2L2vPX",
        "colab_type": "code",
        "colab": {}
      },
      "source": [
        "import re\n",
        "def rhyming_list_all(bars):\n",
        "    rhyme_list_all = []\n",
        "    rhyming_list_final = []\n",
        "    for bar in bars:\n",
        "        # taking the last word in each bar\n",
        "        last_word = re.sub(r\"\\W+\", '', bar.split(\" \")[-1]).lower()\n",
        "        # finding the rhyming word for 'last_word'\n",
        "        rhyming_words = pronouncing.rhymes(last_word)\n",
        "        rhyming_words_ending = []\n",
        "        for rhyming_word in rhyming_words:\n",
        "            rhyming_words_ending.append(rhyming_word[-2:]) # this will pull the last 2 characters from each rhyming word\n",
        "        # now we see that which of the 2 characters in the rhyming_words_ending list occur the most\n",
        "        # we used a try except to capture rythme character, if rhyme character is not found, we take the last 2 characters of the original word\n",
        "        try:\n",
        "            rhyming_words_ending_most_common = max(set(rhyming_words_ending), key = rhyming_words_ending.count)\n",
        "        except Exception:\n",
        "            rhyming_words_ending_most_common = last_word[-2:]\n",
        "        rhyme_list_all.append(rhyming_words_ending_most_common)\n",
        "    # now take the set of rythme to obtain unique last 2 characters\n",
        "    rhyme_list_all = list(set(rhyme_list_all))\n",
        "    reverse_list = [x[::-1] for x in rhyme_list_all] #  use slicing syntax to reverse the letters[start,stop,step],\n",
        "    reverse_list = sorted(reverse_list) # sort the characters\n",
        "    # now we reverse the string again, so that words with similar sounds can be taken in order\n",
        "    rhyming_list_final =  [x[::-1] for x in reverse_list]\n",
        "    return rhyming_list_final"
      ],
      "execution_count": 0,
      "outputs": []
    },
    {
      "cell_type": "code",
      "metadata": {
        "id": "ZOZ4x-6H4Dx4",
        "colab_type": "code",
        "outputId": "e2ab2ff7-011e-4812-8d6a-514786fb9787",
        "colab": {
          "base_uri": "https://localhost:8080/",
          "height": 35
        }
      },
      "source": [
        "rhyming_list_final = rhyming_list_all(final) # contain the list of all common rhyming words (last 2 characters) used in the lyrics across all bars\n",
        "rhyming_list_final"
      ],
      "execution_count": 0,
      "outputs": [
        {
          "output_type": "execute_result",
          "data": {
            "text/plain": [
              "['ee', 'he', 'le', 're', 'em', 'in', 'ar', 'tt', 'ut', 'au', 'ew']"
            ]
          },
          "metadata": {
            "tags": []
          },
          "execution_count": 66
        }
      ]
    },
    {
      "cell_type": "code",
      "metadata": {
        "id": "Q_589AGwBZ2a",
        "colab_type": "code",
        "colab": {}
      },
      "source": [
        "# we are doing the following steps to see that how close the rhyming words are each other\n",
        "# This will make the last words which are similar in rhyme to get closer scores\n",
        "\n",
        "def index_rhyming_word_to_float(rhyming_list_final, bar):\n",
        "    word = re.sub(r\"\\W+\", '', bar.split(\" \")[-1]).lower()\n",
        "    rhymeslist = pronouncing.rhymes(word)\n",
        "    rhymeslistends = []\n",
        "    for i in rhymeslist:\n",
        "        rhymeslistends.append(i[-2:])\n",
        "    try:\n",
        "        rhymescheme = max(set(rhymeslistends), key=rhymeslistends.count)\n",
        "    except Exception:\n",
        "        rhymescheme = word[-2:]\n",
        "    try:\n",
        "        float_rhyme = rhyming_list_final.index(rhymescheme)\n",
        "        float_rhyme = float_rhyme / float(len(rhyming_list_final))\n",
        "        float_rhyme = round(float_rhyme,3)\n",
        "        return float_rhyme\n",
        "    except Exception:\n",
        "        return 0"
      ],
      "execution_count": 0,
      "outputs": []
    },
    {
      "cell_type": "markdown",
      "metadata": {
        "id": "x4cz5ulq65zM",
        "colab_type": "text"
      },
      "source": [
        "### Internal Density (ID)\n",
        "- We are considering the maximun number of syllables for out rap song to be the average number of syllables across each bar in bars\n",
        "                     Average syllables = [sum of syllables across each bar] / [total number of bar] "
      ]
    },
    {
      "cell_type": "code",
      "metadata": {
        "id": "fp9uuIRD638M",
        "colab_type": "code",
        "colab": {}
      },
      "source": [
        "import syllables\n",
        "syllable_list_bar = []\n",
        "def find_syllables_count(bar):\n",
        "    syllable_list_bar.append(syllables.estimate(bar))\n",
        "    estimate = syllables.estimate(bar)/12 # average syllables count in a bar\n",
        "    estimate = round(estimate,3)\n",
        "    return estimate"
      ],
      "execution_count": 0,
      "outputs": []
    },
    {
      "cell_type": "code",
      "metadata": {
        "id": "5fY_bNLECJVN",
        "colab_type": "code",
        "outputId": "dfcb236f-b8b1-40d7-df7f-4c33533c9138",
        "colab": {
          "base_uri": "https://localhost:8080/",
          "height": 384
        }
      },
      "source": [
        "final_values = []\n",
        "for bar in final:\n",
        "    data_with_value = [bar, find_syllables_count(bar), index_rhyming_word_to_float(rhyming_list_final, bar)]\n",
        "    final_values.append(data_with_value)\n",
        "final_values"
      ],
      "execution_count": 0,
      "outputs": [
        {
          "output_type": "execute_result",
          "data": {
            "text/plain": [
              "[['and i hope sometimes you wonder about your', 1.167, 0.273],\n",
              " ['and i hope you don t save you got', 0.833, 0.636],\n",
              " ['and i hope sometimes you wonder about', 1.083, 0.727],\n",
              " ['but you can take me down with just one single', 1.083, 0.182],\n",
              " ['i i i loved you in', 0.583, 0.455],\n",
              " ['bar on the side where you', 0.667, 0.909],\n",
              " ['i m wine in the', 0.417, 0.091],\n",
              " ['you don t know how nice that is but i m', 0.833, 0.364],\n",
              " ['we were jet set and and the', 0.667, 0.091],\n",
              " ['but you weren t', 0.333, 0.0],\n",
              " ['and i love you because you have me no choice but', 1.333, 0.727],\n",
              " ['and i got that red lip classic thing that you', 0.917, 0.909],\n",
              " ['but you weren t', 0.333, 0.0],\n",
              " ['and i hope you don t save you know', 0.833, 0.818],\n",
              " ['you re not a saint and she s not what you', 0.833, 0.909],\n",
              " ['oh how were you to know', 0.583, 0.818],\n",
              " ['but you weren t', 0.333, 0.0],\n",
              " ['but you weren t', 0.333, 0.0],\n",
              " ['we re all here the lights and noise are', 1.0, 0.545],\n",
              " ['you said you d be', 0.333, 0.0]]"
            ]
          },
          "metadata": {
            "tags": []
          },
          "execution_count": 68
        }
      ]
    },
    {
      "cell_type": "markdown",
      "metadata": {
        "id": "qqOK8KLt87xT",
        "colab_type": "text"
      },
      "source": [
        "### Jaccard Similarity\n",
        "\n",
        "The Jaccard similarity index (sometimes called the Jaccard similarity coefficient) compares members for two sets to see which members are shared and which are distinct. \n",
        "\n",
        "It’s a measure of similarity for the two sets of data, with a range from 0% to 100%. The higher the percentage, the more similar the two populations. "
      ]
    },
    {
      "cell_type": "code",
      "metadata": {
        "id": "uvqZJEbj4Wzp",
        "colab_type": "code",
        "colab": {}
      },
      "source": [
        "def get_jaccard_sim(text1, text2): \n",
        "    a = set(text1.split()) \n",
        "    b = set(text2.split())\n",
        "    c = a.intersection(b)\n",
        "    return float(len(c)) / (len(a) + len(b) - len(c))"
      ],
      "execution_count": 0,
      "outputs": []
    },
    {
      "cell_type": "code",
      "metadata": {
        "id": "FHckU60E4afD",
        "colab_type": "code",
        "outputId": "0ec35460-eaa4-4daa-89b8-90e0399fc1a6",
        "colab": {
          "base_uri": "https://localhost:8080/",
          "height": 35
        }
      },
      "source": [
        "print('Jaccard similarity is: ', get_jaccard_sim(' '.join(original), ' '.join(final)))"
      ],
      "execution_count": 0,
      "outputs": [
        {
          "output_type": "stream",
          "text": [
            "Jaccard similarity is:  0.09859154929577464\n"
          ],
          "name": "stdout"
        }
      ]
    },
    {
      "cell_type": "markdown",
      "metadata": {
        "id": "7xQXx3189jJQ",
        "colab_type": "text"
      },
      "source": [
        "### Cosine similarity\n",
        "\n",
        "Cosine similarity calculates similarity by measuring the cosine of angle between two vectors. With cosine similarity, we need to convert sentences into vectors. One way to do that is to use bag of words with either TF (term frequency) or TF-IDF (term frequency- inverse document frequency).\n",
        "\n",
        "TF is good for text similarity in general, but TF-IDF is good for search query relevance."
      ]
    },
    {
      "cell_type": "code",
      "metadata": {
        "id": "JX_8KYqH9vWS",
        "colab_type": "code",
        "colab": {}
      },
      "source": [
        "stemmer = nltk.stem.porter.PorterStemmer()\n",
        "lmm = WordNetLemmatizer()\n",
        "\n",
        "word_list1 = nltk.word_tokenize(' '.join(original))\n",
        "lemmatized_output1 = ' '.join([lmm.lemmatize(w) for w in word_list1])\n",
        "word_list2 = nltk.word_tokenize(' '.join(final))\n",
        "lemmatized_output2 = ' '.join([lmm.lemmatize(w) for w in word_list2])"
      ],
      "execution_count": 0,
      "outputs": []
    },
    {
      "cell_type": "code",
      "metadata": {
        "id": "2R_CUBCf92Ia",
        "colab_type": "code",
        "outputId": "53c0e6b5-9e37-4fc9-c70f-cda939cd7df5",
        "colab": {
          "base_uri": "https://localhost:8080/",
          "height": 72
        }
      },
      "source": [
        "from collections import Counter\n",
        "from sklearn.feature_extraction.text import CountVectorizer\n",
        "from sklearn.metrics.pairwise import cosine_similarity\n",
        "\n",
        "vectorizer = TfidfVectorizer(stop_words='english')\n",
        "def cosine_sim(text1, text2):\n",
        "    tfidf = vectorizer.fit_transform([text1, text2])\n",
        "    return ((tfidf * tfidf.T).A)[0,1]\n",
        "print(cosine_sim(lemmatized_output1, lemmatized_output2))\n",
        "\n",
        "tf = vectorizer.fit_transform([lemmatized_output1, lemmatized_output2])\n",
        "similarity_matrix = cosine_similarity(tf)\n",
        "print(similarity_matrix)"
      ],
      "execution_count": 0,
      "outputs": [
        {
          "output_type": "stream",
          "text": [
            "0.07396593354428418\n",
            "[[1.         0.07396593]\n",
            " [0.07396593 1.        ]]\n"
          ],
          "name": "stdout"
        }
      ]
    },
    {
      "cell_type": "markdown",
      "metadata": {
        "id": "2oq9avWU9_1f",
        "colab_type": "text"
      },
      "source": [
        "### BLEU Score\n",
        "\n",
        "The Bilingual Evaluation Understudy Score, or BLEU for short, is a metric for evaluating a generated sentence to a reference sentence.\n",
        "\n",
        "A perfect match results in a score of 1.0, whereas a perfect mismatch results in a score of 0.0."
      ]
    },
    {
      "cell_type": "code",
      "metadata": {
        "id": "sjQH0Mof-GMZ",
        "colab_type": "code",
        "outputId": "2acf27d9-4209-473e-d9d4-e3e642b98d4e",
        "colab": {
          "base_uri": "https://localhost:8080/",
          "height": 109
        }
      },
      "source": [
        "from nltk.translate.bleu_score import sentence_bleu\n",
        "from nltk.translate.bleu_score import corpus_bleu\n",
        "b = ' '.join(original).split(' ')\n",
        "a = ' '.join(final).split(' ')\n",
        "score = sentence_bleu(a, b)\n",
        "print(score)"
      ],
      "execution_count": 0,
      "outputs": [
        {
          "output_type": "stream",
          "text": [
            "0.3463409141017178\n"
          ],
          "name": "stdout"
        },
        {
          "output_type": "stream",
          "text": [
            "/usr/local/lib/python3.6/dist-packages/nltk/translate/bleu_score.py:490: UserWarning: \n",
            "Corpus/Sentence contains 0 counts of 2-gram overlaps.\n",
            "BLEU scores might be undesirable; use SmoothingFunction().\n",
            "  warnings.warn(_msg)\n"
          ],
          "name": "stderr"
        }
      ]
    }
  ]
}